{
  "cells": [
    {
      "cell_type": "markdown",
      "metadata": {
        "id": "view-in-github",
        "colab_type": "text"
      },
      "source": [
        "<a href=\"https://colab.research.google.com/github/BireNbarik/Metal-Forming-Lab/blob/main/activities/python-basics-3.ipynb\" target=\"_parent\"><img src=\"https://colab.research.google.com/assets/colab-badge.svg\" alt=\"Open In Colab\"/></a>"
      ]
    },
    {
      "cell_type": "markdown",
      "metadata": {
        "id": "T2bf7cH2G9Ob"
      },
      "source": [
        "# Python Basics 3: Basics of Tuples and Lists\n",
        "\n",
        "There are two ways you can have lists in Python.\n",
        "You can either use ``tuple``'s or ... ``list``'s.\n",
        "The difference between the two is that ``tuple`` are immutable (you cannot change them once you make them) but you can add or remove items for ``list``'s.\n",
        "\n",
        "## Tuples\n",
        "\n",
        "Tuples are immutable collections of objectes of any type.\n",
        "Right now, you only know of ``int``'s, ``float``'s, ``bool``'s and ``NoneType``.\n",
        "So, that's all I will use to make tuples.\n",
        "But you can put anything in a tuple.\n",
        "Here is a tuple with two integers:"
      ]
    },
    {
      "cell_type": "code",
      "execution_count": null,
      "metadata": {
        "id": "Qm11r3W6G9Ol"
      },
      "outputs": [],
      "source": [
        "x = (1, 2)\n",
        "x"
      ]
    },
    {
      "cell_type": "markdown",
      "metadata": {
        "id": "XtEoDE_6G9Op"
      },
      "source": [
        "Here is a tuple with two floats:"
      ]
    },
    {
      "cell_type": "code",
      "execution_count": null,
      "metadata": {
        "id": "-TCL0WTZG9Oq"
      },
      "outputs": [],
      "source": [
        "y = (2.1232, 3.14)\n",
        "y"
      ]
    },
    {
      "cell_type": "markdown",
      "metadata": {
        "id": "baEwwXOmG9Os"
      },
      "source": [
        "Here is a tuple with two integers and a float:"
      ]
    },
    {
      "cell_type": "code",
      "execution_count": null,
      "metadata": {
        "id": "7PBMmuV3G9Ot"
      },
      "outputs": [],
      "source": [
        "z = (5, 0, 34.34)\n",
        "z"
      ]
    },
    {
      "cell_type": "markdown",
      "metadata": {
        "id": "SZbt58BcG9Oy"
      },
      "source": [
        "All, these are tuples:"
      ]
    },
    {
      "cell_type": "code",
      "execution_count": null,
      "metadata": {
        "id": "QWxQyby-G9Oz"
      },
      "outputs": [],
      "source": [
        "type(x)"
      ]
    },
    {
      "cell_type": "code",
      "execution_count": null,
      "metadata": {
        "id": "bYhZgE9yG9O1"
      },
      "outputs": [],
      "source": [
        "type(y)"
      ]
    },
    {
      "cell_type": "code",
      "execution_count": null,
      "metadata": {
        "id": "3-paS8LqG9O3"
      },
      "outputs": [],
      "source": [
        "type(z)"
      ]
    },
    {
      "cell_type": "markdown",
      "metadata": {
        "id": "izddgAZDG9O4"
      },
      "source": [
        "You can ask a ``tuple`` how many elements it has using the function ``len``:"
      ]
    },
    {
      "cell_type": "code",
      "execution_count": null,
      "metadata": {
        "id": "EteMl8SvG9O5"
      },
      "outputs": [],
      "source": [
        "len(x)"
      ]
    },
    {
      "cell_type": "code",
      "execution_count": null,
      "metadata": {
        "id": "LB5jt0EYG9O6"
      },
      "outputs": [],
      "source": [
        "len(y)"
      ]
    },
    {
      "cell_type": "code",
      "execution_count": null,
      "metadata": {
        "id": "kakIFPCLG9O8"
      },
      "outputs": [],
      "source": [
        "len(z)"
      ]
    },
    {
      "cell_type": "markdown",
      "metadata": {
        "id": "yrU6lThiG9O9"
      },
      "source": [
        "### Indexing of tuples\n",
        "\n",
        "You can access any element of a tuple using **indexing**.\n",
        "Note that indices start at 0 and go up to the ``len()`` of the tuple:"
      ]
    },
    {
      "cell_type": "code",
      "execution_count": null,
      "metadata": {
        "id": "lekb5bNqG9O9"
      },
      "outputs": [],
      "source": [
        "z[0]"
      ]
    },
    {
      "cell_type": "code",
      "execution_count": null,
      "metadata": {
        "id": "lWA71Dg_G9O-"
      },
      "outputs": [],
      "source": [
        "z[1]"
      ]
    },
    {
      "cell_type": "code",
      "execution_count": null,
      "metadata": {
        "id": "Nywhym14G9O_"
      },
      "outputs": [],
      "source": [
        "z[2]"
      ]
    },
    {
      "cell_type": "markdown",
      "metadata": {
        "id": "RKWoliP_G9O_"
      },
      "source": [
        "If you try to try to use an index larger than the length of the tuple, here is what happens:"
      ]
    },
    {
      "cell_type": "code",
      "execution_count": null,
      "metadata": {
        "id": "JhhVhjfmG9PA"
      },
      "outputs": [],
      "source": [
        "z[3]"
      ]
    },
    {
      "cell_type": "markdown",
      "metadata": {
        "id": "reIRQNWxG9PC"
      },
      "source": [
        "You get an ``IndexError``. This is a very common bug. You need to learn how to read it.\n",
        "\n",
        "You can also use negative indices:"
      ]
    },
    {
      "cell_type": "code",
      "execution_count": null,
      "metadata": {
        "id": "eu4j6lTJG9PC"
      },
      "outputs": [],
      "source": [
        "z[-1]"
      ]
    },
    {
      "cell_type": "markdown",
      "metadata": {
        "id": "rnS68HjzG9PD"
      },
      "source": [
        "Negative indices give you the elements starting from the last one.\n",
        "In particular ``z[-1]`` gives you the last element of the tuple.\n",
        "What would you get with ``z[-2]``:"
      ]
    },
    {
      "cell_type": "code",
      "execution_count": null,
      "metadata": {
        "id": "dd-FURIBG9PE"
      },
      "outputs": [],
      "source": [
        "z[-2]"
      ]
    },
    {
      "cell_type": "code",
      "execution_count": null,
      "metadata": {
        "id": "Gj9VRDTxG9PE"
      },
      "outputs": [],
      "source": [
        "z[-3]"
      ]
    },
    {
      "cell_type": "markdown",
      "metadata": {
        "id": "Kwg64a18G9PF"
      },
      "source": [
        "So, ``z[-3]`` gives you the third element of the tuple counting from the last.\n",
        "Because ``z`` has just three elements, ``z[-3]`` is the same as ``z[0]``.\n",
        "What would happen if you tried ``z[-4]``?"
      ]
    },
    {
      "cell_type": "code",
      "execution_count": null,
      "metadata": {
        "id": "A7gKCgrKG9PF"
      },
      "outputs": [],
      "source": [
        "z[-4]"
      ]
    },
    {
      "cell_type": "markdown",
      "metadata": {
        "id": "NrCawcSiG9PG"
      },
      "source": [
        "You get an ``IndexError`` again."
      ]
    },
    {
      "cell_type": "markdown",
      "metadata": {
        "id": "HoJ94EpUG9PG"
      },
      "source": [
        "Okay. What if you wanted to get the first and second elements of ``z`` and not the last one. You can do this using **index ranges**:"
      ]
    },
    {
      "cell_type": "code",
      "execution_count": null,
      "metadata": {
        "id": "84YxM3YzG9PH"
      },
      "outputs": [],
      "source": [
        "z[0:2]"
      ]
    },
    {
      "cell_type": "markdown",
      "metadata": {
        "id": "AyLLVOorG9PH"
      },
      "source": [
        "How about the second and the third:"
      ]
    },
    {
      "cell_type": "code",
      "execution_count": null,
      "metadata": {
        "id": "c9w9F9S7G9PH"
      },
      "outputs": [],
      "source": [
        "z[1:3]"
      ]
    },
    {
      "cell_type": "markdown",
      "metadata": {
        "id": "Kd-CQkKQG9PI"
      },
      "source": [
        "Let's make a bigger tuple so that we can do some more indexing:"
      ]
    },
    {
      "cell_type": "code",
      "execution_count": null,
      "metadata": {
        "id": "P80Us1weG9PI"
      },
      "outputs": [],
      "source": [
        "w = (1, 2, 3, 4, 5, 6, 7, 8, 9, 10)"
      ]
    },
    {
      "cell_type": "markdown",
      "metadata": {
        "id": "8LfDrNcgG9PJ"
      },
      "source": [
        "This has 10 elements:"
      ]
    },
    {
      "cell_type": "code",
      "execution_count": null,
      "metadata": {
        "id": "B0jLvaS1G9PJ"
      },
      "outputs": [],
      "source": [
        "len(w)"
      ]
    },
    {
      "cell_type": "markdown",
      "metadata": {
        "id": "Q2IOfq_cG9PK"
      },
      "source": [
        "To get the first five you can do:"
      ]
    },
    {
      "cell_type": "code",
      "execution_count": null,
      "metadata": {
        "id": "hitlzxEzG9PK"
      },
      "outputs": [],
      "source": [
        "w[0:5]"
      ]
    },
    {
      "cell_type": "markdown",
      "metadata": {
        "id": "AFN1lAo-G9PL"
      },
      "source": [
        "Now, if the first index in your range happens to be zero, then you can skip it.\n",
        "So, instead of ``w[0:5]``, you can just write:"
      ]
    },
    {
      "cell_type": "code",
      "execution_count": null,
      "metadata": {
        "id": "av1JG4YyG9PL"
      },
      "outputs": [],
      "source": [
        "w[:5]"
      ]
    },
    {
      "cell_type": "markdown",
      "metadata": {
        "id": "n8pF65gCG9PM"
      },
      "source": [
        "Let's get the last 3:"
      ]
    },
    {
      "cell_type": "code",
      "execution_count": null,
      "metadata": {
        "id": "PGKfpvguG9PM"
      },
      "outputs": [],
      "source": [
        "w[7:10]"
      ]
    },
    {
      "cell_type": "markdown",
      "metadata": {
        "id": "AZgpXqg5G9PN"
      },
      "source": [
        "Note that this gives you ``w[7], w[8], w[9]``.\n",
        "Just like before, if the last index in your range happens to be the length of the tuple, you can skip it.\n",
        "So, instead of ``w[7:10]`` you can write:"
      ]
    },
    {
      "cell_type": "code",
      "execution_count": null,
      "metadata": {
        "id": "LRQ7QMIUG9PN"
      },
      "outputs": [],
      "source": [
        "w[7:]"
      ]
    },
    {
      "cell_type": "markdown",
      "metadata": {
        "id": "ouiE-HrHG9PO"
      },
      "source": [
        "So when you ask for ``w[i:j]`` you get all elements between ``w[i]`` and ``w[j-1]``.\n",
        "Let's see what you will get when you do this:"
      ]
    },
    {
      "cell_type": "code",
      "execution_count": null,
      "metadata": {
        "id": "HgIpun0wG9PR"
      },
      "outputs": [],
      "source": [
        "w[4:5]"
      ]
    },
    {
      "cell_type": "markdown",
      "metadata": {
        "id": "Z1EVvnJ0G9PS"
      },
      "source": [
        "This just gave you a tuple with just the fifth element.\n",
        "At this point, look at how a tuple with a single element is defined.\n",
        "It is ``(5,)`` instead of ``(5)``. The comma is essential.\n",
        "This is because without the comma ``(5)`` is just five ..."
      ]
    },
    {
      "cell_type": "code",
      "execution_count": null,
      "metadata": {
        "id": "hBrYmalaG9PT"
      },
      "outputs": [],
      "source": [
        "type((5))"
      ]
    },
    {
      "cell_type": "code",
      "execution_count": null,
      "metadata": {
        "id": "pOS_A_1aG9PT"
      },
      "outputs": [],
      "source": [
        "type((5,))"
      ]
    },
    {
      "cell_type": "code",
      "execution_count": null,
      "metadata": {
        "id": "4yWIedL6G9PU"
      },
      "outputs": [],
      "source": [
        "(5)"
      ]
    },
    {
      "cell_type": "code",
      "execution_count": null,
      "metadata": {
        "id": "tYYjBPbLG9PU"
      },
      "outputs": [],
      "source": [
        "(5,)"
      ]
    },
    {
      "cell_type": "code",
      "execution_count": null,
      "metadata": {
        "id": "In_wUDCjG9PV"
      },
      "outputs": [],
      "source": [
        "len((5,))"
      ]
    },
    {
      "cell_type": "markdown",
      "metadata": {
        "id": "44L4nqZjG9PV"
      },
      "source": [
        "How can I have a tuple with zero elements? Can you guess?\n",
        "Well, it is just ``()``:"
      ]
    },
    {
      "cell_type": "code",
      "execution_count": null,
      "metadata": {
        "id": "6R4uERgsG9PV"
      },
      "outputs": [],
      "source": [
        "()"
      ]
    },
    {
      "cell_type": "code",
      "execution_count": null,
      "metadata": {
        "id": "bLeNcw9LG9PW"
      },
      "outputs": [],
      "source": [
        "type(())"
      ]
    },
    {
      "cell_type": "code",
      "execution_count": null,
      "metadata": {
        "id": "5wizKEwxG9PW"
      },
      "outputs": [],
      "source": [
        "len(())"
      ]
    },
    {
      "cell_type": "markdown",
      "metadata": {
        "id": "-ES1nlQ1G9PX"
      },
      "source": [
        "Here is another way to get a tuple with zero elements:"
      ]
    },
    {
      "cell_type": "code",
      "execution_count": null,
      "metadata": {
        "id": "Nn8H_00SG9PX"
      },
      "outputs": [],
      "source": [
        "w[5:5]"
      ]
    },
    {
      "cell_type": "code",
      "execution_count": null,
      "metadata": {
        "id": "kcq-jrgUG9PY"
      },
      "outputs": [],
      "source": [
        "len(w[5:5])"
      ]
    },
    {
      "cell_type": "markdown",
      "metadata": {
        "id": "7hALNnOIG9PY"
      },
      "source": [
        "Alright, now some more advanced indexing. You do not have to remember all these. I am just putting them here for your reference.\n",
        "\n",
        "First, you can have ranges with negative numbers.\n",
        "This is how to get everything from the fourth element counting from the end to the second element counting from the end:"
      ]
    },
    {
      "cell_type": "code",
      "execution_count": null,
      "metadata": {
        "id": "7_V6MHfoG9PY"
      },
      "outputs": [],
      "source": [
        "w[-4:-2]"
      ]
    },
    {
      "cell_type": "markdown",
      "metadata": {
        "id": "_6f6I8yvG9PZ"
      },
      "source": [
        "And if you want to go all the way to the last element you can write:"
      ]
    },
    {
      "cell_type": "code",
      "execution_count": null,
      "metadata": {
        "id": "9Z2wa5tfG9PZ"
      },
      "outputs": [],
      "source": [
        "w[-4:10]"
      ]
    },
    {
      "cell_type": "markdown",
      "metadata": {
        "id": "TWOz1YVxG9PZ"
      },
      "source": [
        "Or you can completely skip the last element:"
      ]
    },
    {
      "cell_type": "code",
      "execution_count": null,
      "metadata": {
        "id": "qzDXKKPBG9Pa"
      },
      "outputs": [],
      "source": [
        "w[-4:]"
      ]
    },
    {
      "cell_type": "markdown",
      "metadata": {
        "id": "ZcF3MjLHG9Pa"
      },
      "source": [
        "Meditate a little bit with this example with negative indices:"
      ]
    },
    {
      "cell_type": "code",
      "execution_count": null,
      "metadata": {
        "id": "QXPJNy77G9Pb"
      },
      "outputs": [],
      "source": [
        "w[-4:-1]"
      ]
    },
    {
      "cell_type": "markdown",
      "metadata": {
        "id": "MbdupveuG9Pb"
      },
      "source": [
        "This means that ``w[-i:-j]`` gives everything between ``w[len(w)-i]`` and ``w[len(w)-j]`` for ``i`` and ``j`` positive numbers in this example.\n",
        "\n",
        "What happens if you try to give a range that doesn't make sense.\n",
        "Like, take me all the way from the 5th element to the 2nd element:"
      ]
    },
    {
      "cell_type": "code",
      "execution_count": null,
      "metadata": {
        "id": "lmurvSkKG9Pb"
      },
      "outputs": [],
      "source": [
        "w[5:2]"
      ]
    },
    {
      "cell_type": "markdown",
      "metadata": {
        "id": "JSq3hNIRG9Pc"
      },
      "source": [
        "You get an empty tuple. Nice. What happens if you mix positive and negative indices:"
      ]
    },
    {
      "cell_type": "code",
      "execution_count": null,
      "metadata": {
        "id": "rUQVceIEG9Pc"
      },
      "outputs": [],
      "source": [
        "w[-6:8]"
      ]
    },
    {
      "cell_type": "markdown",
      "metadata": {
        "id": "nXLXiCP6G9Pc"
      },
      "source": [
        "It works just fine if the ranges make sense. Of course, avoid this because it is quite confusing.\n",
        "\n",
        "Indexing is getting quite long, but let me give you one more example before we move on.\n",
        "Here is how you can take skip elements in between:"
      ]
    },
    {
      "cell_type": "code",
      "execution_count": null,
      "metadata": {
        "id": "a7BM6HuyG9Pd"
      },
      "outputs": [],
      "source": [
        "w[0:10:2]"
      ]
    },
    {
      "cell_type": "code",
      "execution_count": null,
      "metadata": {
        "id": "SpAxBlV8G9Pd"
      },
      "outputs": [],
      "source": [
        "w[1:5:2]"
      ]
    },
    {
      "cell_type": "markdown",
      "metadata": {
        "id": "SGifsaTXG9Pe"
      },
      "source": [
        "So, ``w[i:j:k]`` will give you every k-th element from ``i`` (inclusive) to ``j`` (exclusive).\n",
        "For $k=1$, of course, you get everything:"
      ]
    },
    {
      "cell_type": "code",
      "execution_count": null,
      "metadata": {
        "id": "9DZE6HZqG9Pe"
      },
      "outputs": [],
      "source": [
        "w[1:5:1]"
      ]
    },
    {
      "cell_type": "markdown",
      "metadata": {
        "id": "hZYaQ6PwG9Pe"
      },
      "source": [
        "Let's say now that we want to take every other element as we did above.\n",
        "We can do this:"
      ]
    },
    {
      "cell_type": "code",
      "execution_count": null,
      "metadata": {
        "id": "2AsQJHmVG9Pf"
      },
      "outputs": [],
      "source": [
        "w[0:10:2]"
      ]
    },
    {
      "cell_type": "markdown",
      "metadata": {
        "id": "URlKsLhOG9Pf"
      },
      "source": [
        "But because we start at zero, we can skip the first index:"
      ]
    },
    {
      "cell_type": "code",
      "execution_count": null,
      "metadata": {
        "id": "zms48af-G9Pf"
      },
      "outputs": [],
      "source": [
        "w[:10:2]"
      ]
    },
    {
      "cell_type": "markdown",
      "metadata": {
        "id": "Uwmulqh9G9Pg"
      },
      "source": [
        "And because we end at ``len(w)`` (which is 10), we can also skip the second index:"
      ]
    },
    {
      "cell_type": "code",
      "execution_count": null,
      "metadata": {
        "id": "NJXZhpeLG9Pg"
      },
      "outputs": [],
      "source": [
        "w[::2]"
      ]
    },
    {
      "cell_type": "markdown",
      "metadata": {
        "id": "NM1-6fLhG9Ph"
      },
      "source": [
        "Similarly, if we wanted to take every third element we would do:"
      ]
    },
    {
      "cell_type": "code",
      "execution_count": null,
      "metadata": {
        "id": "TKjIHiseG9Ph"
      },
      "outputs": [],
      "source": [
        "w[::3]"
      ]
    },
    {
      "cell_type": "markdown",
      "metadata": {
        "id": "a_PTKfj9G9Pi"
      },
      "source": [
        "You can also make ``k`` negative. Let's see what happens:"
      ]
    },
    {
      "cell_type": "code",
      "execution_count": null,
      "metadata": {
        "id": "n4Mmzk17G9Pj"
      },
      "outputs": [],
      "source": [
        "w[::-1]"
      ]
    },
    {
      "cell_type": "markdown",
      "metadata": {
        "id": "1WIEEE7QG9Pj"
      },
      "source": [
        "Wow, the elements are reveresed. How about this:"
      ]
    },
    {
      "cell_type": "code",
      "execution_count": null,
      "metadata": {
        "id": "9P5xoV_UG9Pk"
      },
      "outputs": [],
      "source": [
        "w[::-2]"
      ]
    },
    {
      "cell_type": "markdown",
      "metadata": {
        "id": "q_K-KfhEG9Pk"
      },
      "source": [
        "Reveresed and we skip every other element.\n",
        "Note that ``w[::-2]`` is equivalent to:"
      ]
    },
    {
      "cell_type": "code",
      "execution_count": null,
      "metadata": {
        "id": "wpplz57nG9Pk"
      },
      "outputs": [],
      "source": [
        "w[10:0:-2]"
      ]
    },
    {
      "cell_type": "markdown",
      "metadata": {
        "id": "qnN2e3krG9Pl"
      },
      "source": [
        "So, the range has to make sense. You say, I want to go from the 10th element to the first one backwards skipping every other one. "
      ]
    },
    {
      "cell_type": "markdown",
      "metadata": {
        "id": "dbG68Zc_G9Pl"
      },
      "source": [
        "### Concatentating tuples\n",
        "\n",
        "You can concatenate tuples.\n",
        "Here is how:"
      ]
    },
    {
      "cell_type": "code",
      "execution_count": null,
      "metadata": {
        "id": "7SZkIkk6G9Pm"
      },
      "outputs": [],
      "source": [
        "x + y"
      ]
    },
    {
      "cell_type": "code",
      "execution_count": null,
      "metadata": {
        "id": "0hy-XkioG9Pm"
      },
      "outputs": [],
      "source": [
        "x + y + z"
      ]
    },
    {
      "cell_type": "markdown",
      "metadata": {
        "id": "opuy1REVG9Pm"
      },
      "source": [
        "Nice. Observe that ``x + y`` and ``y + x`` are different:"
      ]
    },
    {
      "cell_type": "code",
      "execution_count": null,
      "metadata": {
        "id": "aY9P4MazG9Pn"
      },
      "outputs": [],
      "source": [
        "x + y"
      ]
    },
    {
      "cell_type": "code",
      "execution_count": null,
      "metadata": {
        "id": "_Bw8Q038G9Pn"
      },
      "outputs": [],
      "source": [
        "y + x"
      ]
    },
    {
      "cell_type": "markdown",
      "metadata": {
        "id": "Mjlkyv3xG9Pn"
      },
      "source": [
        "What if you add the ``()`` (0-element tuple) to a tuple:"
      ]
    },
    {
      "cell_type": "code",
      "execution_count": null,
      "metadata": {
        "id": "8WCrggwZG9Po"
      },
      "outputs": [],
      "source": [
        "x + ()"
      ]
    },
    {
      "cell_type": "code",
      "execution_count": null,
      "metadata": {
        "id": "6k1az0h8G9Po"
      },
      "outputs": [],
      "source": [
        "() + x"
      ]
    },
    {
      "cell_type": "markdown",
      "metadata": {
        "id": "jGM3tBvjG9Pp"
      },
      "source": [
        "You just get the tuple back."
      ]
    },
    {
      "cell_type": "markdown",
      "metadata": {
        "id": "HW2HU6pzG9Pp"
      },
      "source": [
        "### You cannot change tuples\n",
        "\n",
        "You cannot change a tuple once you create it.\n",
        "For example, you cannot do this:"
      ]
    },
    {
      "cell_type": "code",
      "execution_count": null,
      "metadata": {
        "id": "-I1zLKsSG9Pp"
      },
      "outputs": [],
      "source": [
        "w[4] = 5"
      ]
    },
    {
      "cell_type": "markdown",
      "metadata": {
        "id": "EGa-mo-oG9Pq"
      },
      "source": [
        "Read the error message. It is quite clear: \"TypeError: 'tuple' object does not support item assignment.\" Always read the error messages.\n",
        "\n",
        "So, you should not be using ``tuple``'s for things that may change.\n",
        "You should only use ``tuple``'s for things that do not change.\n",
        "As a matter of fact, **you should always use ``tuples``'s for things that do not change**.\n",
        "In this way, if you try to change that object you will get this nice error above instead of a nasty bug.\n",
        "\n",
        "If you want something that can be changed, then you need to use a ``list``."
      ]
    },
    {
      "cell_type": "markdown",
      "metadata": {
        "id": "XCFxuvRJG9Pq"
      },
      "source": [
        "## Questions\n",
        "\n",
        "+ In the code block provided below evaluate the angle between the two vectors:\n",
        "$$\n",
        "\\vec{r}_1 = 4\\hat{i} + 3.5\\hat{j} + 2.5\\hat{k},\n",
        "$$\n",
        "and\n",
        "$$\n",
        "\\vec{r}_2 = 1.5\\hat{i} + 2.5\\hat{j}.\n",
        "$$\n",
        "Remember that the dot product of two vectors is:\n",
        "$$\n",
        "\\theta = \\cos^{-1}\\left(\\frac{\\vec{r}_1\\cdot \\vec{r}_2}{|\\vec{r}_1||\\vec{r}_2|}\\right).\n",
        "$$\n",
        "Hint: Use tuples to represent ``r1`` and ``r2``. You will have to ``import math`` and use ``math.acos()``."
      ]
    },
    {
      "cell_type": "code",
      "execution_count": null,
      "metadata": {
        "id": "NcjFnDW-G9Pr"
      },
      "outputs": [],
      "source": [
        "# Your code here"
      ]
    },
    {
      "cell_type": "markdown",
      "metadata": {
        "id": "6jEhPCvNG9Pr"
      },
      "source": [
        "+ Consider the ``tuple``:"
      ]
    },
    {
      "cell_type": "code",
      "execution_count": null,
      "metadata": {
        "id": "SDT9YDwVG9Pr"
      },
      "outputs": [],
      "source": [
        "q = (3.0, 23.0, 1e-3, 12.242, 23, 41, 50, 30., 20.)"
      ]
    },
    {
      "cell_type": "markdown",
      "metadata": {
        "id": "uW-uPv9NG9Ps"
      },
      "source": [
        "Do the following:\n",
        "\n",
        "- Get the lentgh of q:"
      ]
    },
    {
      "cell_type": "code",
      "execution_count": null,
      "metadata": {
        "id": "a9rLlO3yG9Ps"
      },
      "outputs": [],
      "source": [
        ""
      ]
    },
    {
      "cell_type": "markdown",
      "metadata": {
        "id": "a8KxOHK8G9Pt"
      },
      "source": [
        "- Get all the elements of ``q`` from the second to the second to last"
      ]
    },
    {
      "cell_type": "code",
      "execution_count": null,
      "metadata": {
        "id": "PcEWWG81G9Pt"
      },
      "outputs": [],
      "source": [
        ""
      ]
    },
    {
      "cell_type": "markdown",
      "metadata": {
        "id": "6jFnpcTBG9Pt"
      },
      "source": [
        "- Get every other element of ``q`` from the second to the second to last"
      ]
    },
    {
      "cell_type": "code",
      "execution_count": null,
      "metadata": {
        "id": "Zdpx28QaG9Pu"
      },
      "outputs": [],
      "source": [
        ""
      ]
    },
    {
      "cell_type": "markdown",
      "metadata": {
        "id": "mKPX3Y3PG9Pu"
      },
      "source": [
        "- Reverse ``q``"
      ]
    },
    {
      "cell_type": "code",
      "execution_count": null,
      "metadata": {
        "id": "gt9SDhRoG9Pu"
      },
      "outputs": [],
      "source": [
        ""
      ]
    },
    {
      "cell_type": "markdown",
      "metadata": {
        "id": "4dCWLKPBG9Pv"
      },
      "source": [
        "## Lists\n",
        "\n",
        "Lists are like tuples, containers of many things, but they can be changed.\n",
        "Here is a list:"
      ]
    },
    {
      "cell_type": "code",
      "execution_count": null,
      "metadata": {
        "id": "uKPXMsCSG9Pv"
      },
      "outputs": [],
      "source": [
        "a = [1, 2, 3, 4, 5, 6, 7]\n",
        "a"
      ]
    },
    {
      "cell_type": "markdown",
      "metadata": {
        "id": "wJwdoX6lG9Pw"
      },
      "source": [
        "Notice that you define it with ``[]`` instead of ``()``.\n",
        "\n",
        "Just like tuples, you can get the length of the list with ``len``:"
      ]
    },
    {
      "cell_type": "code",
      "execution_count": null,
      "metadata": {
        "id": "iihFUIv2G9Pw"
      },
      "outputs": [],
      "source": [
        "len(a)"
      ]
    },
    {
      "cell_type": "markdown",
      "metadata": {
        "id": "spDFTJsWG9Pw"
      },
      "source": [
        "And you can index lists in exactly the same way you index tuples:"
      ]
    },
    {
      "cell_type": "code",
      "execution_count": null,
      "metadata": {
        "id": "-BZ8QtPvG9Px"
      },
      "outputs": [],
      "source": [
        "a[0]"
      ]
    },
    {
      "cell_type": "code",
      "execution_count": null,
      "metadata": {
        "id": "H6zVIT8tG9Px"
      },
      "outputs": [],
      "source": [
        "a[1]"
      ]
    },
    {
      "cell_type": "code",
      "execution_count": null,
      "metadata": {
        "id": "ID2HrzlhG9Py"
      },
      "outputs": [],
      "source": [
        "a[2:5]"
      ]
    },
    {
      "cell_type": "code",
      "execution_count": null,
      "metadata": {
        "id": "MP56rFE2G9Pz"
      },
      "outputs": [],
      "source": [
        "a[::2]"
      ]
    },
    {
      "cell_type": "code",
      "execution_count": null,
      "metadata": {
        "id": "iuArgeJ1G9P0"
      },
      "outputs": [],
      "source": [
        "a[::-2]"
      ]
    },
    {
      "cell_type": "markdown",
      "metadata": {
        "id": "sUGYeiVXG9P1"
      },
      "source": [
        "You can also combine two lists into a new list, like this:"
      ]
    },
    {
      "cell_type": "code",
      "execution_count": null,
      "metadata": {
        "id": "TWp-LOkfG9P1"
      },
      "outputs": [],
      "source": [
        "b = [3.1, 5.0, 2.]\n",
        "c = a + b\n",
        "c"
      ]
    },
    {
      "cell_type": "markdown",
      "metadata": {
        "id": "9MVHSzS3G9P2"
      },
      "source": [
        "And here is the empty list:"
      ]
    },
    {
      "cell_type": "code",
      "execution_count": null,
      "metadata": {
        "id": "jivERkznG9P2"
      },
      "outputs": [],
      "source": [
        "[]"
      ]
    },
    {
      "cell_type": "code",
      "execution_count": null,
      "metadata": {
        "id": "2WXcoVZXG9P3"
      },
      "outputs": [],
      "source": [
        "type([])"
      ]
    },
    {
      "cell_type": "code",
      "execution_count": null,
      "metadata": {
        "id": "r7mFxyDiG9P3"
      },
      "outputs": [],
      "source": [
        "len([])"
      ]
    },
    {
      "cell_type": "code",
      "execution_count": null,
      "metadata": {
        "id": "qIICkrvQG9P4"
      },
      "outputs": [],
      "source": [
        "a + []"
      ]
    },
    {
      "cell_type": "markdown",
      "metadata": {
        "id": "7TUgEZ59G9P4"
      },
      "source": [
        "So, lists behave just like tuples but with one main difference: **You can change lists**.\n",
        "For example, you can change the second element of the list to 3.4:"
      ]
    },
    {
      "cell_type": "code",
      "execution_count": null,
      "metadata": {
        "id": "r5oP5qb9G9P4"
      },
      "outputs": [],
      "source": [
        "# before\n",
        "a"
      ]
    },
    {
      "cell_type": "code",
      "execution_count": null,
      "metadata": {
        "id": "cWOjXkkzG9P5"
      },
      "outputs": [],
      "source": [
        "a[1] = 3.4"
      ]
    },
    {
      "cell_type": "code",
      "execution_count": null,
      "metadata": {
        "id": "AAnweCsNG9P5"
      },
      "outputs": [],
      "source": [
        "# after\n",
        "a"
      ]
    },
    {
      "cell_type": "markdown",
      "metadata": {
        "id": "W68anx30G9P6"
      },
      "source": [
        "You can also put a new item at the end of the list using ``list.append()``.\n",
        "Here is how:"
      ]
    },
    {
      "cell_type": "code",
      "execution_count": null,
      "metadata": {
        "id": "3twmjmq1G9P7"
      },
      "outputs": [],
      "source": [
        "# before\n",
        "a"
      ]
    },
    {
      "cell_type": "code",
      "execution_count": null,
      "metadata": {
        "id": "KyRWFLzKG9P7"
      },
      "outputs": [],
      "source": [
        "# Push the item at the end\n",
        "a.append(6.3)"
      ]
    },
    {
      "cell_type": "code",
      "execution_count": null,
      "metadata": {
        "id": "oW9HBIQ-G9P8"
      },
      "outputs": [],
      "source": [
        "# after\n",
        "a"
      ]
    },
    {
      "cell_type": "markdown",
      "metadata": {
        "id": "cOv9ZnnjG9P8"
      },
      "source": [
        "You can also remove the last item of the list using ``list.pop()``:"
      ]
    },
    {
      "cell_type": "code",
      "execution_count": null,
      "metadata": {
        "id": "rcgy0bB3G9P9"
      },
      "outputs": [],
      "source": [
        "# before\n",
        "a"
      ]
    },
    {
      "cell_type": "code",
      "execution_count": null,
      "metadata": {
        "id": "DeGZOpYaG9P-"
      },
      "outputs": [],
      "source": [
        "# remove the last item\n",
        "a.pop()"
      ]
    },
    {
      "cell_type": "markdown",
      "metadata": {
        "id": "Iy6hkHmwG9P_"
      },
      "source": [
        "Notice that the item was returned by ``pop()``.\n",
        "Here is the list after the pop operation:"
      ]
    },
    {
      "cell_type": "code",
      "execution_count": null,
      "metadata": {
        "id": "Zly1QcBYG9P_"
      },
      "outputs": [],
      "source": [
        "a"
      ]
    },
    {
      "cell_type": "markdown",
      "metadata": {
        "id": "9ey7ZbZlG9QA"
      },
      "source": [
        "The last item was removed. Now ``append()`` and ``pop()`` are *methods* of the *class* ``list``. They can be accessed by doing ``a.append()`` or ``a.pop()``.\n",
        "We will talk about classes and methods in another hands-on activity.\n",
        "You can access the methods of an object by typing the name of the object followed by a ``.`` and then pressing the \"tab\" button of your keyboard.\n",
        "Try it here:"
      ]
    },
    {
      "cell_type": "code",
      "execution_count": null,
      "metadata": {
        "id": "t_-b75QFG9QA"
      },
      "outputs": [],
      "source": [
        "a.  # Get next to the dot and press \"tab\""
      ]
    },
    {
      "cell_type": "markdown",
      "metadata": {
        "id": "I64n-xoqG9QB"
      },
      "source": [
        "Another way to get help about an object is to use ``help()`` on it.\n",
        "You can do:"
      ]
    },
    {
      "cell_type": "code",
      "execution_count": null,
      "metadata": {
        "id": "vq11xZH-G9QB"
      },
      "outputs": [],
      "source": [
        "help(a)"
      ]
    },
    {
      "cell_type": "markdown",
      "metadata": {
        "id": "U_7YYg6MG9QC"
      },
      "source": [
        "This will give you essentially all the information about the object you need.\n",
        "\n",
        "Now back to lists. We saw ``append()`` and ``pop()``.\n",
        "There are more built in methods.\n",
        "``insert()`` is a useful one:"
      ]
    },
    {
      "cell_type": "code",
      "execution_count": null,
      "metadata": {
        "id": "Vx-XDy6pG9QD"
      },
      "outputs": [],
      "source": [
        "# before\n",
        "a"
      ]
    },
    {
      "cell_type": "code",
      "execution_count": null,
      "metadata": {
        "id": "XvyheeHWG9QD"
      },
      "outputs": [],
      "source": [
        "a.insert(4, 23.5325)"
      ]
    },
    {
      "cell_type": "code",
      "execution_count": null,
      "metadata": {
        "id": "DoABmRDnG9QE"
      },
      "outputs": [],
      "source": [
        "a"
      ]
    },
    {
      "cell_type": "markdown",
      "metadata": {
        "id": "R_WM45myG9QF"
      },
      "source": [
        "Here is what it does:"
      ]
    },
    {
      "cell_type": "code",
      "execution_count": null,
      "metadata": {
        "id": "c6cXhSVkG9QF"
      },
      "outputs": [],
      "source": [
        "help(a.insert)"
      ]
    },
    {
      "cell_type": "markdown",
      "metadata": {
        "id": "aevhqYFAG9QG"
      },
      "source": [
        "``remove()`` is also useful:"
      ]
    },
    {
      "cell_type": "code",
      "execution_count": null,
      "metadata": {
        "id": "6LRmBbC2G9QG"
      },
      "outputs": [],
      "source": [
        "# before\n",
        "a"
      ]
    },
    {
      "cell_type": "code",
      "execution_count": null,
      "metadata": {
        "id": "bf3tqRlHG9QH"
      },
      "outputs": [],
      "source": [
        "a.remove(3)"
      ]
    },
    {
      "cell_type": "code",
      "execution_count": null,
      "metadata": {
        "id": "vilCA_RRG9QH"
      },
      "outputs": [],
      "source": [
        "# after\n",
        "a"
      ]
    },
    {
      "cell_type": "markdown",
      "metadata": {
        "id": "DP7sGkKQG9QH"
      },
      "source": [
        "Here is what it does:"
      ]
    },
    {
      "cell_type": "code",
      "execution_count": null,
      "metadata": {
        "id": "Ci1HhgBFG9QI"
      },
      "outputs": [],
      "source": [
        "help(a.remove)"
      ]
    },
    {
      "cell_type": "markdown",
      "metadata": {
        "id": "SJIcHKXhG9QI"
      },
      "source": [
        "Let's try to remove something that is not there:"
      ]
    },
    {
      "cell_type": "code",
      "execution_count": null,
      "metadata": {
        "id": "HNTG9PpGG9QJ"
      },
      "outputs": [],
      "source": [
        "a.remove(0)"
      ]
    },
    {
      "cell_type": "markdown",
      "metadata": {
        "id": "3nWkQletG9QJ"
      },
      "source": [
        "As I said before: **Read the error messages!!!**"
      ]
    },
    {
      "cell_type": "markdown",
      "metadata": {
        "id": "AaH3_u5bG9QK"
      },
      "source": [
        "The ``list.extend()`` method allows you to append an entire list to a given list:"
      ]
    },
    {
      "cell_type": "code",
      "execution_count": null,
      "metadata": {
        "id": "B8aZCvigG9QK"
      },
      "outputs": [],
      "source": [
        "# before\n",
        "a"
      ]
    },
    {
      "cell_type": "code",
      "execution_count": null,
      "metadata": {
        "id": "A3urLYTCG9QL"
      },
      "outputs": [],
      "source": [
        "# extend\n",
        "a.extend([0.3, 0.12, 123.])"
      ]
    },
    {
      "cell_type": "code",
      "execution_count": null,
      "metadata": {
        "id": "MO91Fb71G9QM"
      },
      "outputs": [],
      "source": [
        "# after\n",
        "a"
      ]
    },
    {
      "cell_type": "markdown",
      "metadata": {
        "id": "1kK40kyoG9QM"
      },
      "source": [
        "You can also sort a list like this:"
      ]
    },
    {
      "cell_type": "code",
      "execution_count": null,
      "metadata": {
        "id": "nfTHJN9vG9QN"
      },
      "outputs": [],
      "source": [
        "# before\n",
        "a"
      ]
    },
    {
      "cell_type": "code",
      "execution_count": null,
      "metadata": {
        "id": "pQtXG_1hG9QN"
      },
      "outputs": [],
      "source": [
        "a.sort()"
      ]
    },
    {
      "cell_type": "code",
      "execution_count": null,
      "metadata": {
        "id": "XBU656wdG9QO"
      },
      "outputs": [],
      "source": [
        "# after\n",
        "a"
      ]
    },
    {
      "cell_type": "markdown",
      "metadata": {
        "id": "E0EXp7pwG9QP"
      },
      "source": [
        "Here is how you can count the occurence of a specific element in a list:"
      ]
    },
    {
      "cell_type": "code",
      "execution_count": null,
      "metadata": {
        "id": "rG_7LPZkG9QQ"
      },
      "outputs": [],
      "source": [
        "a.count(3.4)"
      ]
    },
    {
      "cell_type": "code",
      "execution_count": null,
      "metadata": {
        "id": "8cBLMUrPG9QQ"
      },
      "outputs": [],
      "source": [
        "a.count(0.0)"
      ]
    },
    {
      "cell_type": "markdown",
      "metadata": {
        "id": "Zbq7__NpG9QQ"
      },
      "source": [
        "And here is how you can find the index of a list element:"
      ]
    },
    {
      "cell_type": "code",
      "execution_count": null,
      "metadata": {
        "id": "rOsfpJebG9QR"
      },
      "outputs": [],
      "source": [
        "idx = a.index(23.5325)\n",
        "idx"
      ]
    },
    {
      "cell_type": "code",
      "execution_count": null,
      "metadata": {
        "id": "m5MmYMWEG9QR"
      },
      "outputs": [],
      "source": [
        "a[idx]"
      ]
    },
    {
      "cell_type": "markdown",
      "metadata": {
        "id": "aJnnBikPG9QS"
      },
      "source": [
        "There more things you can do with lists, but that's it for now.\n",
        "\n",
        "## Questions\n",
        "\n",
        "Consider the list:"
      ]
    },
    {
      "cell_type": "code",
      "execution_count": null,
      "metadata": {
        "id": "ceryolTbG9QS"
      },
      "outputs": [],
      "source": [
        "data = [23.0, 21.0, 23.0, 23.0, 23.84, 24.52]"
      ]
    },
    {
      "cell_type": "markdown",
      "metadata": {
        "id": "SCBgqQ8RG9QS"
      },
      "source": [
        "+ Find how many occurances of 23.0 there are in ``data``:"
      ]
    },
    {
      "cell_type": "code",
      "execution_count": null,
      "metadata": {
        "id": "YLrGuIUDG9QT"
      },
      "outputs": [],
      "source": [
        "# Your code here"
      ]
    },
    {
      "cell_type": "markdown",
      "metadata": {
        "id": "3H7qR708G9QT"
      },
      "source": [
        "+ Find the mean of the ``data`` list, i.e., the sum of all elements divided by their number. Hint: Use the built-in python function ``sum()``. Here is the help for sum:"
      ]
    },
    {
      "cell_type": "code",
      "execution_count": null,
      "metadata": {
        "id": "y_0iZoyJG9QU"
      },
      "outputs": [],
      "source": [
        "help(sum)"
      ]
    },
    {
      "cell_type": "markdown",
      "metadata": {
        "id": "lUiSsAsaG9QV"
      },
      "source": [
        "The term ``iterable`` above refers to either tuples or lists (it is more general, but we will explain it another time)."
      ]
    },
    {
      "cell_type": "code",
      "execution_count": null,
      "metadata": {
        "id": "0RkB7wlAG9QV"
      },
      "outputs": [],
      "source": [
        "# your code here"
      ]
    },
    {
      "cell_type": "markdown",
      "metadata": {
        "id": "_oAOWO6LG9QW"
      },
      "source": [
        "+ Find the minimum and the maximum of ``data``. Hint: Use the function ``min()`` for the minimum."
      ]
    },
    {
      "cell_type": "code",
      "execution_count": null,
      "metadata": {
        "id": "r_KlJgn6G9QW"
      },
      "outputs": [],
      "source": [
        "# your code here"
      ]
    },
    {
      "cell_type": "code",
      "execution_count": null,
      "metadata": {
        "id": "0QR7Bh2BG9QX"
      },
      "outputs": [],
      "source": [
        "# your code here"
      ]
    }
  ],
  "metadata": {
    "kernelspec": {
      "display_name": "Python 3",
      "language": "python",
      "name": "python3"
    },
    "language_info": {
      "codemirror_mode": {
        "name": "ipython",
        "version": 3
      },
      "file_extension": ".py",
      "mimetype": "text/x-python",
      "name": "python",
      "nbconvert_exporter": "python",
      "pygments_lexer": "ipython3",
      "version": "3.7.7"
    },
    "colab": {
      "name": "python-basics-3.ipynb",
      "provenance": [],
      "include_colab_link": true
    }
  },
  "nbformat": 4,
  "nbformat_minor": 0
}