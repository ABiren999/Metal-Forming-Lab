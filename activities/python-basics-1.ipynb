{
  "cells": [
    {
      "cell_type": "markdown",
      "metadata": {
        "id": "view-in-github",
        "colab_type": "text"
      },
      "source": [
        "<a href=\"https://colab.research.google.com/github/BireNbarik/Metal-Forming-Lab/blob/main/activities/python-basics-1.ipynb\" target=\"_parent\"><img src=\"https://colab.research.google.com/assets/colab-badge.svg\" alt=\"Open In Colab\"/></a>"
      ]
    },
    {
      "cell_type": "markdown",
      "metadata": {
        "id": "OcTMimCutmCQ"
      },
      "source": [
        "# Python Basics 1: Python as a Calculator\n",
        "\n",
        "Let's see how Python can do basic mathematics.\n",
        "\n",
        "## Addition, multiplication, exponentiation, division, etc.\n",
        "Here are some examples. Try to guess the result before your run them. You can run the code either by clicking on the \"Run\" button or by pressing \"Shift+Enter.\""
      ]
    },
    {
      "cell_type": "code",
      "execution_count": null,
      "metadata": {
        "id": "gCup3CXftmCV"
      },
      "outputs": [],
      "source": [
        "1 + 2"
      ]
    },
    {
      "cell_type": "code",
      "execution_count": null,
      "metadata": {
        "id": "KEgI8HfMtmCY"
      },
      "outputs": [],
      "source": [
        "1 + 2 + 3"
      ]
    },
    {
      "cell_type": "code",
      "execution_count": null,
      "metadata": {
        "id": "Hiye93aAtmCZ"
      },
      "outputs": [],
      "source": [
        "1 + (2 + 3)"
      ]
    },
    {
      "cell_type": "code",
      "execution_count": null,
      "metadata": {
        "id": "ZEs3WFlItmCa"
      },
      "outputs": [],
      "source": [
        "2 * 3"
      ]
    },
    {
      "cell_type": "code",
      "execution_count": null,
      "metadata": {
        "id": "OHmFQQ4LtmCb"
      },
      "outputs": [],
      "source": [
        "2 * (3 + 4)"
      ]
    },
    {
      "cell_type": "markdown",
      "metadata": {
        "id": "UKvH7IeetmCd"
      },
      "source": [
        "That was easy... The only thing to remember here is that whatever you enclose in parentheses is evaluated first. Just like regular mathematics.\n",
        "\n",
        "The addition ``+`` and the multiplication ``*`` are called *binary operators*.\n",
        "Let's continue see some more binary operators. Just like before, try to guess the result before you run the code."
      ]
    },
    {
      "cell_type": "code",
      "execution_count": null,
      "metadata": {
        "id": "jJioec7otmCf"
      },
      "outputs": [],
      "source": [
        "2 ** 3"
      ]
    },
    {
      "cell_type": "code",
      "execution_count": null,
      "metadata": {
        "id": "-66Zf-tutmCh"
      },
      "outputs": [],
      "source": [
        "5 ** 2"
      ]
    },
    {
      "cell_type": "code",
      "execution_count": null,
      "metadata": {
        "id": "2BxJ5dHJtmCi"
      },
      "outputs": [],
      "source": [
        "(1 + 2) ** 2"
      ]
    },
    {
      "cell_type": "markdown",
      "metadata": {
        "id": "MeGUV_YOtmCj"
      },
      "source": [
        "So, the binary operator ``**`` exponentiates. Remember this. It is different than Matlab.\n",
        "\n",
        "Here is another binary operator:"
      ]
    },
    {
      "cell_type": "code",
      "execution_count": null,
      "metadata": {
        "id": "45Igu8EgtmCk"
      },
      "outputs": [],
      "source": [
        "2 / 3"
      ]
    },
    {
      "cell_type": "code",
      "execution_count": null,
      "metadata": {
        "id": "7UsqrVnqtmCl"
      },
      "outputs": [],
      "source": [
        "1 / 2"
      ]
    },
    {
      "cell_type": "code",
      "execution_count": null,
      "metadata": {
        "id": "XnjE6kuQtmCm"
      },
      "outputs": [],
      "source": [
        "5 / (2 + 3) ** 2"
      ]
    },
    {
      "cell_type": "markdown",
      "metadata": {
        "id": "Doh0jkuMtmCm"
      },
      "source": [
        "Okay, let's now divide with zero:"
      ]
    },
    {
      "cell_type": "code",
      "execution_count": null,
      "metadata": {
        "id": "dRcnirfytmCn"
      },
      "outputs": [],
      "source": [
        "1 / 0"
      ]
    },
    {
      "cell_type": "markdown",
      "metadata": {
        "id": "rDvYkIk_tmCn"
      },
      "source": [
        "Oops... This is how error messages look in Python. You need to get used to reading them. Look what it says: ``ZeroDivisionErro``. Well, it's obvious what it means. Note also this ``----> 1 1 / 0``. The first number is the line number of the code block in which the error occured. Let's put the error a little bit further into the code, to see if that changes:"
      ]
    },
    {
      "cell_type": "code",
      "execution_count": null,
      "metadata": {
        "id": "nTB0-wNLtmCp"
      },
      "outputs": [],
      "source": [
        "# A comment line\n",
        "# Another comment line\n",
        "1 / 0 # the error line (by the way, this is another way to write comments)"
      ]
    },
    {
      "cell_type": "markdown",
      "metadata": {
        "id": "4SFr1bhstmCq"
      },
      "source": [
        "Notice that the error now appears in the third line. **Read the errors.**\n",
        "\n",
        "The binary operator ``/`` is the division operator. What if we wanted integer division? Then you need to use the ``//`` operator:"
      ]
    },
    {
      "cell_type": "code",
      "execution_count": null,
      "metadata": {
        "id": "mCtRq6HwtmCr"
      },
      "outputs": [],
      "source": [
        "3 // 2"
      ]
    },
    {
      "cell_type": "code",
      "execution_count": null,
      "metadata": {
        "id": "geFH6JOotmCr"
      },
      "outputs": [],
      "source": [
        "9 // 2"
      ]
    },
    {
      "cell_type": "code",
      "execution_count": null,
      "metadata": {
        "id": "BQdg-Np9tmCs"
      },
      "outputs": [],
      "source": [
        "6 // 4"
      ]
    },
    {
      "cell_type": "markdown",
      "metadata": {
        "id": "EUeQlUSftmCs"
      },
      "source": [
        "Integer division by zero?"
      ]
    },
    {
      "cell_type": "code",
      "execution_count": null,
      "metadata": {
        "id": "0gILXbGdtmCu"
      },
      "outputs": [],
      "source": [
        "1 // 0"
      ]
    },
    {
      "cell_type": "markdown",
      "metadata": {
        "id": "AOu-qg_PtmCu"
      },
      "source": [
        "What about the remainder of the division. This is the so-called modulo operator ``%``.\n",
        "Guess the result of the following:"
      ]
    },
    {
      "cell_type": "code",
      "execution_count": null,
      "metadata": {
        "id": "KroNmiXvtmCv"
      },
      "outputs": [],
      "source": [
        "3 % 2"
      ]
    },
    {
      "cell_type": "code",
      "execution_count": null,
      "metadata": {
        "id": "JRSrM9b5tmCv"
      },
      "outputs": [],
      "source": [
        "9 % 2"
      ]
    },
    {
      "cell_type": "code",
      "execution_count": null,
      "metadata": {
        "id": "MSuRcOiatmCw"
      },
      "outputs": [],
      "source": [
        "6 % 4"
      ]
    },
    {
      "cell_type": "code",
      "execution_count": null,
      "metadata": {
        "id": "vJSFODVBtmCw"
      },
      "outputs": [],
      "source": [
        "6 % 2"
      ]
    },
    {
      "cell_type": "markdown",
      "metadata": {
        "id": "vebMI567tmCw"
      },
      "source": [
        "Let's divide by zero again:"
      ]
    },
    {
      "cell_type": "code",
      "execution_count": null,
      "metadata": {
        "id": "NvsLqT13tmCx"
      },
      "outputs": [],
      "source": [
        "10 % 0"
      ]
    },
    {
      "cell_type": "markdown",
      "metadata": {
        "id": "0gHyXSZGtmCx"
      },
      "source": [
        "What about negative numbers? Sure:"
      ]
    },
    {
      "cell_type": "code",
      "execution_count": null,
      "metadata": {
        "id": "yuFEVz_ltmCy"
      },
      "outputs": [],
      "source": [
        "-4"
      ]
    },
    {
      "cell_type": "code",
      "execution_count": null,
      "metadata": {
        "id": "AOGC360CtmCy"
      },
      "outputs": [],
      "source": [
        "-4 + 5"
      ]
    },
    {
      "cell_type": "code",
      "execution_count": null,
      "metadata": {
        "id": "ZgZfVLgbtmCy"
      },
      "outputs": [],
      "source": [
        "-5 + 5"
      ]
    },
    {
      "cell_type": "markdown",
      "metadata": {
        "id": "ALdBxLUytmCz"
      },
      "source": [
        "## Questions\n",
        "\n",
        "+ In the code block provided below evaluate the dot product of the vectors:\n",
        "$$\n",
        "\\vec{r}_1 = 4\\hat{i} + 3.5\\hat{j} + 2.5\\hat{k},\n",
        "$$\n",
        "and\n",
        "$$\n",
        "\\vec{r}_2 = 1.5\\hat{i} + 2.5\\hat{j}.\n",
        "$$\n",
        "Remembet that the dot product of two vectors is:\n",
        "$$\n",
        "\\vec{r}_1\\cdot \\vec{r}_2 = x_1x_2 + y_1y_2 + z_1z_2.\n",
        "$$"
      ]
    },
    {
      "cell_type": "code",
      "execution_count": null,
      "metadata": {
        "id": "SQsvzm0rtmC0"
      },
      "outputs": [],
      "source": [
        "# Your code here (by the way, this is how Python comments look like!)\n"
      ]
    },
    {
      "cell_type": "markdown",
      "metadata": {
        "id": "auymDWV5tmC0"
      },
      "source": [
        "## Scientific notation\n",
        "\n",
        "You can use scientific notation to define numbers in Python.\n",
        "For example:"
      ]
    },
    {
      "cell_type": "code",
      "execution_count": null,
      "metadata": {
        "id": "3TXeOr-dtmC1"
      },
      "outputs": [],
      "source": [
        "1e-1"
      ]
    },
    {
      "cell_type": "code",
      "execution_count": null,
      "metadata": {
        "id": "SI2Du2ontmC1"
      },
      "outputs": [],
      "source": [
        "2.5e-3"
      ]
    },
    {
      "cell_type": "markdown",
      "metadata": {
        "id": "dASV6ZcOtmC2"
      },
      "source": [
        "## Rounding numbers\n",
        "\n",
        "Very often we want to round numbers.\n",
        "Here is how:"
      ]
    },
    {
      "cell_type": "code",
      "execution_count": null,
      "metadata": {
        "id": "S0AQdrH4tmC3"
      },
      "outputs": [],
      "source": [
        "round(2.24345)"
      ]
    },
    {
      "cell_type": "code",
      "execution_count": null,
      "metadata": {
        "id": "gDmBUa5OtmC3"
      },
      "outputs": [],
      "source": [
        "round(2.233535, 3)"
      ]
    },
    {
      "cell_type": "markdown",
      "metadata": {
        "id": "YA_UHVYhtmC3"
      },
      "source": [
        "How does ``round`` work? You can use the ``help`` to figure it out:"
      ]
    },
    {
      "cell_type": "code",
      "execution_count": null,
      "metadata": {
        "id": "_t0-ky8ZtmC4"
      },
      "outputs": [],
      "source": [
        "help(round)"
      ]
    },
    {
      "cell_type": "markdown",
      "metadata": {
        "id": "SbUEN5PytmC5"
      },
      "source": [
        "``round()`` is our first example of a **Python function**. As a matter of fact, it is a **built-in Python function**. We will learn quite a few of them (but not all) during these hands-on activities. By the way ``help()`` is another Python function."
      ]
    },
    {
      "cell_type": "markdown",
      "metadata": {
        "id": "VxtBILDXtmC7"
      },
      "source": [
        "## Standard mathematical functions \n",
        "\n",
        "Python has some built in functions.\n",
        "They are organized in a **python module** called ``math``.\n",
        "Here is how you can **import** the functionality of the ``math`` module.\n",
        "You just do:"
      ]
    },
    {
      "cell_type": "code",
      "execution_count": null,
      "metadata": {
        "id": "jl5AzKkltmC8"
      },
      "outputs": [],
      "source": [
        "import math"
      ]
    },
    {
      "cell_type": "markdown",
      "metadata": {
        "id": "R_7qukQytmC9"
      },
      "source": [
        "Now you can use ``math``.\n",
        "Here is how:"
      ]
    },
    {
      "cell_type": "code",
      "execution_count": null,
      "metadata": {
        "id": "B1whhTYStmC9"
      },
      "outputs": [],
      "source": [
        "math.pi"
      ]
    },
    {
      "cell_type": "code",
      "execution_count": null,
      "metadata": {
        "id": "rWj8lzkLtmC9"
      },
      "outputs": [],
      "source": [
        "math.sin(0.0)"
      ]
    },
    {
      "cell_type": "code",
      "execution_count": null,
      "metadata": {
        "id": "dp-K0kQbtmC-"
      },
      "outputs": [],
      "source": [
        "math.sin(math.pi / 2)"
      ]
    },
    {
      "cell_type": "code",
      "execution_count": null,
      "metadata": {
        "id": "JFtgW4IUtmC-"
      },
      "outputs": [],
      "source": [
        "math.cos(math.pi / 3)"
      ]
    },
    {
      "cell_type": "code",
      "execution_count": null,
      "metadata": {
        "id": "RoYlbOtetmC_"
      },
      "outputs": [],
      "source": [
        "math.cos(math.pi / 3) ** 2 + math.sin(math.pi / 3) ** 2"
      ]
    },
    {
      "cell_type": "code",
      "execution_count": null,
      "metadata": {
        "id": "tiIn74rZtmC_"
      },
      "outputs": [],
      "source": [
        "math.sqrt(2)"
      ]
    },
    {
      "cell_type": "code",
      "execution_count": null,
      "metadata": {
        "id": "7uLBoFyItmDA"
      },
      "outputs": [],
      "source": [
        "math.sqrt(2) ** 2"
      ]
    },
    {
      "cell_type": "markdown",
      "metadata": {
        "id": "9AwMilDhtmDA"
      },
      "source": [
        "Note that some of the results are not coming out exactly right. There is a bit of error. This are called *floating point errors* or *numerical errors*. Get used to them..."
      ]
    },
    {
      "cell_type": "code",
      "execution_count": null,
      "metadata": {
        "id": "F3xXNqMktmDB"
      },
      "outputs": [],
      "source": [
        "math.tan(math.pi / 3)"
      ]
    },
    {
      "cell_type": "code",
      "execution_count": null,
      "metadata": {
        "id": "eqS8Y1jrtmDB"
      },
      "outputs": [],
      "source": [
        "math.sin(math.pi / 3) / math.cos(math.pi / 3)"
      ]
    },
    {
      "cell_type": "markdown",
      "metadata": {
        "id": "fCZVWPKStmDB"
      },
      "source": [
        "We saw how we can get $\\pi$. How about $e$?"
      ]
    },
    {
      "cell_type": "code",
      "execution_count": null,
      "metadata": {
        "id": "8kBRnPP2tmDC"
      },
      "outputs": [],
      "source": [
        "math.e"
      ]
    },
    {
      "cell_type": "markdown",
      "metadata": {
        "id": "nNKFPmdXtmDC"
      },
      "source": [
        "What about $e^2$? You should use the ``math.exp`` function in this case:"
      ]
    },
    {
      "cell_type": "code",
      "execution_count": null,
      "metadata": {
        "id": "d88ur0ZctmDC"
      },
      "outputs": [],
      "source": [
        "math.exp(2.0)"
      ]
    },
    {
      "cell_type": "code",
      "execution_count": null,
      "metadata": {
        "id": "QPiVfa6wtmDD"
      },
      "outputs": [],
      "source": [
        "math.exp(-2.0)"
      ]
    },
    {
      "cell_type": "code",
      "execution_count": null,
      "metadata": {
        "id": "iqCYe35GtmDD"
      },
      "outputs": [],
      "source": [
        "1 / math.exp(-2.0)"
      ]
    },
    {
      "cell_type": "markdown",
      "metadata": {
        "id": "QP6oauyYtmDE"
      },
      "source": [
        "What happes to $e^x$ when $x$ is too big?"
      ]
    },
    {
      "cell_type": "code",
      "execution_count": null,
      "metadata": {
        "id": "3FhXLcLStmDE"
      },
      "outputs": [],
      "source": [
        "math.exp(10)"
      ]
    },
    {
      "cell_type": "code",
      "execution_count": null,
      "metadata": {
        "id": "mKNdYaAqtmDF"
      },
      "outputs": [],
      "source": [
        "math.exp(100)"
      ]
    },
    {
      "cell_type": "code",
      "execution_count": null,
      "metadata": {
        "id": "8lbUvkvXtmDF"
      },
      "outputs": [],
      "source": [
        "math.exp(1000)"
      ]
    },
    {
      "cell_type": "markdown",
      "metadata": {
        "id": "EAmEAEOKtmDF"
      },
      "source": [
        "Oops... It doesn't handle this very well... An ``OverflowError``.\n",
        "\n",
        "Anyway, if you want to learn more about what is in ``math`` go [here](https://docs.python.org/3/library/math.html) (or just Google \"Python math\").\n",
        "Alterantively, you could use the ``help`` command:"
      ]
    },
    {
      "cell_type": "code",
      "execution_count": null,
      "metadata": {
        "id": "tAXXY7tHtmDG"
      },
      "outputs": [],
      "source": [
        "help(math)"
      ]
    },
    {
      "cell_type": "markdown",
      "metadata": {
        "id": "DzAxWwZntmDG"
      },
      "source": [
        "The interesting thing to notice in the help is at the very end.\n",
        "There are several special numbers defined.\n",
        "What is ``inf``?"
      ]
    },
    {
      "cell_type": "code",
      "execution_count": null,
      "metadata": {
        "id": "6KI7R_Y7tmDG"
      },
      "outputs": [],
      "source": [
        "math.inf"
      ]
    },
    {
      "cell_type": "code",
      "execution_count": null,
      "metadata": {
        "id": "fG4DB4XUtmDH"
      },
      "outputs": [],
      "source": [
        "1 / math.inf"
      ]
    },
    {
      "cell_type": "code",
      "execution_count": null,
      "metadata": {
        "id": "V7i0oVwgtmDH"
      },
      "outputs": [],
      "source": [
        "math.exp(math.inf)"
      ]
    },
    {
      "cell_type": "code",
      "execution_count": null,
      "metadata": {
        "id": "_zH4KZVutmDI"
      },
      "outputs": [],
      "source": [
        "math.exp(-math.inf)"
      ]
    },
    {
      "cell_type": "code",
      "execution_count": null,
      "metadata": {
        "id": "C5oOQZ_gtmDI"
      },
      "outputs": [],
      "source": [
        "math.inf + math.inf"
      ]
    },
    {
      "cell_type": "code",
      "execution_count": null,
      "metadata": {
        "id": "LXpib8ADtmDI"
      },
      "outputs": [],
      "source": [
        "- math.inf"
      ]
    },
    {
      "cell_type": "markdown",
      "metadata": {
        "id": "elfvFGyOtmDJ"
      },
      "source": [
        "Can you guess what it is? Let's try something that will break it:"
      ]
    },
    {
      "cell_type": "code",
      "execution_count": null,
      "metadata": {
        "id": "ortSaggPtmDJ"
      },
      "outputs": [],
      "source": [
        "math.inf - math.inf"
      ]
    },
    {
      "cell_type": "markdown",
      "metadata": {
        "id": "GInz304PtmDJ"
      },
      "source": [
        "What is ``nan``? This is another number defined in ``math``.\n",
        "``nan`` means \"**n**ot **a** **n**umber\".\n",
        "Here are some other examples of how you can get it."
      ]
    },
    {
      "cell_type": "code",
      "execution_count": null,
      "metadata": {
        "id": "CEmaEqmztmDK"
      },
      "outputs": [],
      "source": [
        "math.inf / math.inf"
      ]
    },
    {
      "cell_type": "markdown",
      "metadata": {
        "id": "maKJ3Pt2tmDK"
      },
      "source": [
        "Basically, if you see a ``nan``, there is something wrong with your code."
      ]
    },
    {
      "cell_type": "markdown",
      "metadata": {
        "id": "7lKhX6UYtmDL"
      },
      "source": [
        "## Questions\n",
        "\n",
        "+ In the code block provided below to evaluate the magnitude of the vector:\n",
        "$$\n",
        "\\vec{r}_1 = 4\\hat{i} + 3.5\\hat{j} + 2.5\\hat{k}.\n",
        "$$"
      ]
    },
    {
      "cell_type": "code",
      "execution_count": null,
      "metadata": {
        "id": "XRnbLTP6tmDL"
      },
      "outputs": [],
      "source": [
        "# Your code here\n"
      ]
    }
  ],
  "metadata": {
    "kernelspec": {
      "display_name": "Python 3",
      "language": "python",
      "name": "python3"
    },
    "language_info": {
      "codemirror_mode": {
        "name": "ipython",
        "version": 3
      },
      "file_extension": ".py",
      "mimetype": "text/x-python",
      "name": "python",
      "nbconvert_exporter": "python",
      "pygments_lexer": "ipython3",
      "version": "3.7.7"
    },
    "colab": {
      "name": "python-basics-1.ipynb",
      "provenance": [],
      "include_colab_link": true
    }
  },
  "nbformat": 4,
  "nbformat_minor": 0
}