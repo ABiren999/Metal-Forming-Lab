{
  "cells": [
    {
      "cell_type": "markdown",
      "metadata": {
        "id": "view-in-github",
        "colab_type": "text"
      },
      "source": [
        "<a href=\"https://colab.research.google.com/github/BireNbarik/Metal-Forming-Lab/blob/main/activities/python-basics-2.ipynb\" target=\"_parent\"><img src=\"https://colab.research.google.com/assets/colab-badge.svg\" alt=\"Open In Colab\"/></a>"
      ]
    },
    {
      "cell_type": "markdown",
      "metadata": {
        "id": "QiEaDyGC2i5D"
      },
      "source": [
        "# Python Basics 2: Python Variables and Types\n",
        "\n",
        "Python uses many data types.\n",
        "Here we cover the most basic ones with particular emphasis on numerical data types.\n",
        "\n",
        "## Numerical data types\n",
        "We have already played with two kinds ``int`` and ``float``.\n",
        "``int`` stands for integer and ``float`` stands for floating point number (an approximation to a real number).\n",
        "You can use the ``type()`` function to see the type of something.\n",
        "Here are some ``int``'s:"
      ]
    },
    {
      "cell_type": "code",
      "execution_count": null,
      "metadata": {
        "id": "yeBbJJ9R2i5M"
      },
      "outputs": [],
      "source": [
        "type(1)"
      ]
    },
    {
      "cell_type": "code",
      "execution_count": null,
      "metadata": {
        "id": "L5qijBab2i5Q"
      },
      "outputs": [],
      "source": [
        "type(2)"
      ]
    },
    {
      "cell_type": "markdown",
      "metadata": {
        "id": "zgynB_gM2i5S"
      },
      "source": [
        "And here are some ``float``'s:"
      ]
    },
    {
      "cell_type": "code",
      "execution_count": null,
      "metadata": {
        "id": "6zcu-9bu2i5U"
      },
      "outputs": [],
      "source": [
        "type(1.24235)"
      ]
    },
    {
      "cell_type": "code",
      "execution_count": null,
      "metadata": {
        "id": "OxyYFtEq2i5W"
      },
      "outputs": [],
      "source": [
        "type(1e-5)"
      ]
    },
    {
      "cell_type": "code",
      "execution_count": null,
      "metadata": {
        "id": "SBqqgKbV2i5Y"
      },
      "outputs": [],
      "source": [
        "type(1.0)"
      ]
    },
    {
      "cell_type": "code",
      "execution_count": null,
      "metadata": {
        "id": "faIPgh8V2i5Z"
      },
      "outputs": [],
      "source": [
        "type(2.)"
      ]
    },
    {
      "cell_type": "markdown",
      "metadata": {
        "id": "nNw_VsdT2i5a"
      },
      "source": [
        "When you add or multiply two ``int``'s, you get an ``int``:"
      ]
    },
    {
      "cell_type": "code",
      "execution_count": null,
      "metadata": {
        "id": "V2GdMlW32i5c"
      },
      "outputs": [],
      "source": [
        "type(1 + 2)"
      ]
    },
    {
      "cell_type": "code",
      "execution_count": null,
      "metadata": {
        "id": "94DWb61V2i5d"
      },
      "outputs": [],
      "source": [
        "type(2 * 4)"
      ]
    },
    {
      "cell_type": "markdown",
      "metadata": {
        "id": "rfIoi4UV2i5e"
      },
      "source": [
        "Same thing for two ``float``'s:"
      ]
    },
    {
      "cell_type": "code",
      "execution_count": null,
      "metadata": {
        "id": "KvKvoQh52i5e"
      },
      "outputs": [],
      "source": [
        "type(1.0 + 2.3)"
      ]
    },
    {
      "cell_type": "code",
      "execution_count": null,
      "metadata": {
        "id": "Uv1pfLCY2i5f"
      },
      "outputs": [],
      "source": [
        "type(2.1 * 3.5)"
      ]
    },
    {
      "cell_type": "markdown",
      "metadata": {
        "id": "aKqf9msB2i5g"
      },
      "source": [
        "But what happens when you mix ``int``'s and ``float``'s?\n",
        "Let's try it out:"
      ]
    },
    {
      "cell_type": "code",
      "execution_count": null,
      "metadata": {
        "id": "0ijxjORt2i5h"
      },
      "outputs": [],
      "source": [
        "type(1 + 2.4)"
      ]
    },
    {
      "cell_type": "markdown",
      "metadata": {
        "id": "pOjrcgfS2i5h"
      },
      "source": [
        "Adding an ``int`` to ``float`` gave you a ``float``. Let's try another example:"
      ]
    },
    {
      "cell_type": "code",
      "execution_count": null,
      "metadata": {
        "id": "UnFXaUmd2i5i"
      },
      "outputs": [],
      "source": [
        "type(2 * 3.4)"
      ]
    },
    {
      "cell_type": "markdown",
      "metadata": {
        "id": "tM2Z5gau2i5i"
      },
      "source": [
        "Multiplying an ``int`` with a ``float`` gave you a ``float``.\n",
        "This is a general rule: \"When you have an operation that involves both ``int``'s and ``float``'s, the ``int``'s are promoted to ``float``'s and then the operation is carried out. Thus, the result is always a ``float``.\n",
        "\n",
        "What do we mean by promoted. We mean that when python sees:\n",
        "``\n",
        "2 + 2.4\n",
        "``\n",
        "it changes it first to\n",
        "``\n",
        "2.0 + 2.4\n",
        "``\n",
        "and then carries out the addition.\n",
        "Python can do this by using the ``float()`` function.\n",
        "Here is an example:"
      ]
    },
    {
      "cell_type": "code",
      "execution_count": null,
      "metadata": {
        "id": "0D4IUdP02i5j"
      },
      "outputs": [],
      "source": [
        "float(1)"
      ]
    },
    {
      "cell_type": "code",
      "execution_count": null,
      "metadata": {
        "id": "JFNfclGX2i5k"
      },
      "outputs": [],
      "source": [
        "type(float(1))"
      ]
    },
    {
      "cell_type": "markdown",
      "metadata": {
        "id": "2DHU_8aH2i5l"
      },
      "source": [
        "Similarly, there is an ``int()`` function that can change a ``float`` to an ``int``:"
      ]
    },
    {
      "cell_type": "code",
      "execution_count": null,
      "metadata": {
        "id": "zSwY-Q3D2i5l"
      },
      "outputs": [],
      "source": [
        "int(23.4353)"
      ]
    },
    {
      "cell_type": "code",
      "execution_count": null,
      "metadata": {
        "id": "NCQW0kw02i5m"
      },
      "outputs": [],
      "source": [
        "type(int(23.33453))"
      ]
    },
    {
      "cell_type": "markdown",
      "metadata": {
        "id": "xcEBLTaX2i5m"
      },
      "source": [
        "Let's see what type is ``math.inf`` and ``math.nan``:"
      ]
    },
    {
      "cell_type": "code",
      "execution_count": null,
      "metadata": {
        "id": "tWqI1WbH2i5n"
      },
      "outputs": [],
      "source": [
        "import math\n",
        "type(math.inf)"
      ]
    },
    {
      "cell_type": "code",
      "execution_count": null,
      "metadata": {
        "id": "qsfw5NrT2i5n"
      },
      "outputs": [],
      "source": [
        "type(math.nan)"
      ]
    },
    {
      "cell_type": "markdown",
      "metadata": {
        "id": "2wlMAqbX2i5o"
      },
      "source": [
        "## Questions\n",
        "\n",
        "First guess and then try out, the type of the following expressions:\n",
        "\n",
        "+ ``1 / 2.0``\n",
        "\n",
        "+ ``2 // 3``\n",
        "\n",
        "+ ``2.0 // 3``\n",
        "\n",
        "+ ``5 % 3``\n",
        "\n",
        "+ ``5.0 % 3``\n",
        "\n",
        "+ ``int(5.0 % 3)``"
      ]
    },
    {
      "cell_type": "code",
      "execution_count": null,
      "metadata": {
        "id": "xBX91AW-2i5o"
      },
      "outputs": [],
      "source": [
        "# Your code here"
      ]
    },
    {
      "cell_type": "markdown",
      "metadata": {
        "id": "y8-NzRhW2i5p"
      },
      "source": [
        "## Python variables\n",
        "\n",
        "You can use variables to store the values of things.\n",
        "Here is a variable:"
      ]
    },
    {
      "cell_type": "code",
      "execution_count": null,
      "metadata": {
        "id": "NdYGK9cf2i5p"
      },
      "outputs": [],
      "source": [
        "x = 1"
      ]
    },
    {
      "cell_type": "markdown",
      "metadata": {
        "id": "anTSX_lb2i5q"
      },
      "source": [
        "Here is another variable:"
      ]
    },
    {
      "cell_type": "code",
      "execution_count": null,
      "metadata": {
        "id": "ZU3BR22D2i5q"
      },
      "outputs": [],
      "source": [
        "y = 2"
      ]
    },
    {
      "cell_type": "markdown",
      "metadata": {
        "id": "TIexdJ0F2i5q"
      },
      "source": [
        "Now you can do:"
      ]
    },
    {
      "cell_type": "code",
      "execution_count": null,
      "metadata": {
        "id": "ZJROOdB92i5r"
      },
      "outputs": [],
      "source": [
        "z = x + y"
      ]
    },
    {
      "cell_type": "markdown",
      "metadata": {
        "id": "ySY0hMXg2i5r"
      },
      "source": [
        "and you can look at ``z``:"
      ]
    },
    {
      "cell_type": "code",
      "execution_count": null,
      "metadata": {
        "id": "IWP7OQ7x2i5s"
      },
      "outputs": [],
      "source": [
        "z"
      ]
    },
    {
      "cell_type": "markdown",
      "metadata": {
        "id": "C0Kv3ZPt2i5s"
      },
      "source": [
        "## Questions\n",
        "+ In the code block provided below evaluate the angle between the two vectors:\n",
        "$$\n",
        "\\vec{r}_1 = 4\\hat{i} + 3.5\\hat{j} + 2.5\\hat{k},\n",
        "$$\n",
        "and\n",
        "$$\n",
        "\\vec{r}_2 = 1.5\\hat{i} + 2.5\\hat{j}.\n",
        "$$\n",
        "Remembet that the angle between two vectors is:\n",
        "$$\n",
        "\\theta = \\frac{\\vec{r}_1\\cdot \\vec{r}_2}{|\\vec{r}_1||\\vec{r}_2|}.\n",
        "$$\n",
        "Hint: Define variables ``x1,x2,y1,y2,z1,z2`` and use ``math.acos()``."
      ]
    },
    {
      "cell_type": "code",
      "execution_count": null,
      "metadata": {
        "id": "fyULL_Lc2i5t"
      },
      "outputs": [],
      "source": [
        "# Your code here"
      ]
    },
    {
      "cell_type": "markdown",
      "metadata": {
        "id": "mk9xGruo2i5u"
      },
      "source": [
        "## Boolean types\n",
        "\n",
        "Boolean types are either ``True`` or ``False``.\n",
        "As a matter of fact ``True`` and ``False`` are special Python keywords.\n",
        "Here it is:"
      ]
    },
    {
      "cell_type": "code",
      "execution_count": null,
      "metadata": {
        "id": "pfQOCKi02i5v"
      },
      "outputs": [],
      "source": [
        "True"
      ]
    },
    {
      "cell_type": "code",
      "execution_count": null,
      "metadata": {
        "id": "Lo9TTKWd2i5v"
      },
      "outputs": [],
      "source": [
        "False"
      ]
    },
    {
      "cell_type": "code",
      "execution_count": null,
      "metadata": {
        "id": "OxfOBDGz2i5w"
      },
      "outputs": [],
      "source": [
        "type(True)"
      ]
    },
    {
      "cell_type": "code",
      "execution_count": null,
      "metadata": {
        "id": "8JcVsN_n2i5x"
      },
      "outputs": [],
      "source": [
        "type(False)"
      ]
    },
    {
      "cell_type": "markdown",
      "metadata": {
        "id": "Pzy9EwaP2i5x"
      },
      "source": [
        "What can you do with ``True`` and ``False``?\n",
        "We will learn more about them when we talk about conditionals (in another hands-on activity), but here are some examples:"
      ]
    },
    {
      "cell_type": "code",
      "execution_count": null,
      "metadata": {
        "id": "4hSSWAmS2i5y"
      },
      "outputs": [],
      "source": [
        "True and True"
      ]
    },
    {
      "cell_type": "markdown",
      "metadata": {
        "id": "U3GcUe2g2i5z"
      },
      "source": [
        "So ``and`` is another Python keyword..."
      ]
    },
    {
      "cell_type": "code",
      "execution_count": null,
      "metadata": {
        "id": "hay5XxWf2i50"
      },
      "outputs": [],
      "source": [
        "True and False"
      ]
    },
    {
      "cell_type": "code",
      "execution_count": null,
      "metadata": {
        "id": "ulAfCTLm2i50"
      },
      "outputs": [],
      "source": [
        "True or False"
      ]
    },
    {
      "cell_type": "code",
      "execution_count": null,
      "metadata": {
        "id": "JxjT-2gz2i52"
      },
      "outputs": [],
      "source": [
        "False or False"
      ]
    },
    {
      "cell_type": "markdown",
      "metadata": {
        "id": "Gifdubr22i52"
      },
      "source": [
        "So ``or`` is another Python keyword...\n",
        "\n",
        "Here is the final example:"
      ]
    },
    {
      "cell_type": "code",
      "execution_count": null,
      "metadata": {
        "id": "x6mnR7Xq2i53"
      },
      "outputs": [],
      "source": [
        "not True"
      ]
    },
    {
      "cell_type": "code",
      "execution_count": null,
      "metadata": {
        "id": "9Yku7TUJ2i54"
      },
      "outputs": [],
      "source": [
        "not False"
      ]
    },
    {
      "cell_type": "markdown",
      "metadata": {
        "id": "iVwEcM122i55"
      },
      "source": [
        "So ``not`` is another Python keyword...\n",
        "\n",
        "You can also have longer expressions with ``bool``'s:"
      ]
    },
    {
      "cell_type": "code",
      "execution_count": null,
      "metadata": {
        "id": "t7vS1cJz2i56"
      },
      "outputs": [],
      "source": [
        "True and (False or True)"
      ]
    },
    {
      "cell_type": "markdown",
      "metadata": {
        "id": "rqwXYPfP2i57"
      },
      "source": [
        "And just like for numerical types, there is a ``bool()`` function that can turn something into a ``bool`` type. For example:"
      ]
    },
    {
      "cell_type": "code",
      "execution_count": null,
      "metadata": {
        "id": "FDsVT5Qi2i58"
      },
      "outputs": [],
      "source": [
        "bool(1)"
      ]
    },
    {
      "cell_type": "code",
      "execution_count": null,
      "metadata": {
        "id": "LxkjO95j2i59"
      },
      "outputs": [],
      "source": [
        "bool(0)"
      ]
    },
    {
      "cell_type": "code",
      "execution_count": null,
      "metadata": {
        "id": "jRBxWzOn2i5-"
      },
      "outputs": [],
      "source": [
        "bool(1.0)"
      ]
    },
    {
      "cell_type": "code",
      "execution_count": null,
      "metadata": {
        "id": "Q3Gypat_2i5-"
      },
      "outputs": [],
      "source": [
        "bool(0.2242)"
      ]
    },
    {
      "cell_type": "markdown",
      "metadata": {
        "id": "B1QaOqJq2i5_"
      },
      "source": [
        "## The ``NoneType``\n",
        "\n",
        "Python has a special type called the ``NoneType``.\n",
        "It is a special construct that is used to represent the \"nothing.\"\n",
        "Here it is:"
      ]
    },
    {
      "cell_type": "code",
      "execution_count": null,
      "metadata": {
        "id": "0_aiFPga2i5_"
      },
      "outputs": [],
      "source": [
        "None"
      ]
    },
    {
      "cell_type": "markdown",
      "metadata": {
        "id": "HWrOskUt2i5_"
      },
      "source": [
        "Notice that when you trye to see ``None`` you do not see anything. This is because it is representing \"nothing.\" You cannot see the \"nothing.\"\n",
        "What is the type of ``None``?"
      ]
    },
    {
      "cell_type": "code",
      "execution_count": null,
      "metadata": {
        "id": "ppoKD1Kj2i6A"
      },
      "outputs": [],
      "source": [
        "type(None)"
      ]
    },
    {
      "cell_type": "markdown",
      "metadata": {
        "id": "6a0D9KQd2i6B"
      },
      "source": [
        "We will say more about the ``None`` when we talk about conditionals."
      ]
    }
  ],
  "metadata": {
    "kernelspec": {
      "display_name": "Python 3",
      "language": "python",
      "name": "python3"
    },
    "language_info": {
      "codemirror_mode": {
        "name": "ipython",
        "version": 3
      },
      "file_extension": ".py",
      "mimetype": "text/x-python",
      "name": "python",
      "nbconvert_exporter": "python",
      "pygments_lexer": "ipython3",
      "version": "3.7.7"
    },
    "colab": {
      "name": "python-basics-2.ipynb",
      "provenance": [],
      "include_colab_link": true
    }
  },
  "nbformat": 4,
  "nbformat_minor": 0
}