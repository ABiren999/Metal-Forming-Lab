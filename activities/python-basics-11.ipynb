{
  "cells": [
    {
      "cell_type": "markdown",
      "metadata": {
        "id": "view-in-github",
        "colab_type": "text"
      },
      "source": [
        "<a href=\"https://colab.research.google.com/github/BireNbarik/Metal-Forming-Lab/blob/main/activities/python-basics-11.ipynb\" target=\"_parent\"><img src=\"https://colab.research.google.com/assets/colab-badge.svg\" alt=\"Open In Colab\"/></a>"
      ]
    },
    {
      "cell_type": "markdown",
      "metadata": {
        "id": "PSHqRkF4EVXm"
      },
      "source": [
        "# Python Basics 11: Basic Plots\n",
        "\n",
        "The objective is to learn the basics of Python plotting.\n",
        "\n",
        "We plot using the [matplotlib](https://matplotlib.org/) Python library.\n",
        "Again, this is a *huge* topic and we cannot cover everything here.\n",
        "In general, if you know the type of plot that you want to do a simple Google search of the type \"X matplotlib\" will probably send you to an example that you can adjust to your needs.\n",
        "\n",
        "Here is how to import `matplotlib`:"
      ]
    },
    {
      "cell_type": "code",
      "execution_count": null,
      "metadata": {
        "id": "P6oh2tu9EVXv"
      },
      "outputs": [],
      "source": [
        "# Both lines are necessary in a Jupyter notebook\n",
        "import matplotlib.pyplot as plt\n",
        "# This line tells the Jupyter notebook that the plots should just appear\n",
        "# within it\n",
        "%matplotlib inline"
      ]
    },
    {
      "cell_type": "markdown",
      "metadata": {
        "id": "oe7qrjYoEVX3"
      },
      "source": [
        "## Plotting simple functions\n",
        "\n",
        "Let's start by plotting simple 1D functions.\n",
        "We are going to plot this function:\n",
        "$$\n",
        "f(x) = \\frac{\\sin(x)}{x},\n",
        "$$\n",
        "for $x$ between $-10$ and $10$.\n",
        "Here you go:"
      ]
    },
    {
      "cell_type": "code",
      "execution_count": null,
      "metadata": {
        "id": "q7UbW98IEVX5"
      },
      "outputs": [],
      "source": [
        "# We are going to need numpy as well\n",
        "import numpy as np\n",
        "# First you generate the data that you want to plot\n",
        "# Here is a dense set of x's:\n",
        "xs = np.linspace(-10, 10, 50)\n",
        "# linspace gives you 200 equidistant points between -10 and 10\n",
        "# you should remember this function:\n",
        "print(xs)"
      ]
    },
    {
      "cell_type": "code",
      "execution_count": null,
      "metadata": {
        "id": "MMqAljbjEVX6"
      },
      "outputs": [],
      "source": [
        "# Now evalute the function values at each one of these points\n",
        "ys = np.sin(xs) / xs\n",
        "print(ys)"
      ]
    },
    {
      "cell_type": "code",
      "execution_count": null,
      "metadata": {
        "id": "ZLs0cenYEVX7"
      },
      "outputs": [],
      "source": [
        "# And now we can plot. The simplet way to do it is this:\n",
        "plt.plot(xs, ys);"
      ]
    },
    {
      "cell_type": "markdown",
      "metadata": {
        "id": "fOHteH-vEVX9"
      },
      "source": [
        "However, I typically use the following more extensive version because it allows me to specify certain details like the size or the quality of the plot:"
      ]
    },
    {
      "cell_type": "code",
      "execution_count": null,
      "metadata": {
        "id": "d_LsCVyQEVX_"
      },
      "outputs": [],
      "source": [
        "fig, ax = plt.subplots()\n",
        "ax.plot(xs, ys);"
      ]
    },
    {
      "cell_type": "markdown",
      "metadata": {
        "id": "wa2AEGMQEVYB"
      },
      "source": [
        "Let's now add some more details in the plot.\n",
        "Let's add x and y labels, and a title."
      ]
    },
    {
      "cell_type": "code",
      "execution_count": null,
      "metadata": {
        "id": "K6lOxfW5EVYC"
      },
      "outputs": [],
      "source": [
        "fig, ax = plt.subplots()\n",
        "ax.plot(xs, ys)\n",
        "ax.set_xlabel('$x$')\n",
        "ax.set_ylabel('$y$')\n",
        "ax.set_title('Some title');"
      ]
    },
    {
      "cell_type": "markdown",
      "metadata": {
        "id": "a1KtE1tJEVYE"
      },
      "source": [
        "You can increase the quality of the plot like this:"
      ]
    },
    {
      "cell_type": "code",
      "execution_count": null,
      "metadata": {
        "id": "F6wEefGZEVYF"
      },
      "outputs": [],
      "source": [
        "fig, ax = plt.subplots(dpi=150)\n",
        "ax.plot(xs, ys)\n",
        "ax.set_xlabel('$x$')\n",
        "ax.set_ylabel('$y$')\n",
        "ax.set_title('Some title');"
      ]
    },
    {
      "cell_type": "markdown",
      "metadata": {
        "id": "CsYFxn88EVYK"
      },
      "source": [
        "Let's now add one more function to the plot.\n",
        "I will add this:\n",
        "$$\n",
        "g(x) = \\frac{\\sin^2(x)}{x}.\n",
        "$$"
      ]
    },
    {
      "cell_type": "code",
      "execution_count": null,
      "metadata": {
        "id": "riF6YgvOEVYL"
      },
      "outputs": [],
      "source": [
        "fig, ax = plt.subplots(dpi=150)\n",
        "ax.plot(xs, ys, label='$f(x)$')\n",
        "ax.plot(xs, np.sin(xs) ** 2 / xs, '--', label='$g(x)$')\n",
        "ax.set_xlabel('$x$')\n",
        "ax.set_ylabel('$y$')\n",
        "ax.set_title('Some title')\n",
        "plt.legend(loc='best')"
      ]
    },
    {
      "cell_type": "markdown",
      "metadata": {
        "id": "sTYwQQpsEVYN"
      },
      "source": [
        "Notice that the colors are automatically different for the two curves.\n",
        "However, you have to specify a different style.\n",
        "You can also change the colors:"
      ]
    },
    {
      "cell_type": "code",
      "execution_count": null,
      "metadata": {
        "id": "Fa6UhsAXEVYN"
      },
      "outputs": [],
      "source": [
        "fig, ax = plt.subplots(dpi=150)\n",
        "ax.plot(xs, ys, 'g', label='$f(x)$')\n",
        "ax.plot(xs, np.sin(xs) ** 2 / xs, 'r--', label='$g(x)$')\n",
        "ax.set_xlabel('$x$')\n",
        "ax.set_ylabel('$y$')\n",
        "ax.set_title('Some title')\n",
        "plt.legend(loc='best')"
      ]
    },
    {
      "cell_type": "markdown",
      "metadata": {
        "id": "1t2xiP9pEVYO"
      },
      "source": [
        "You don't have to memorize the details of the style right now. A simple Google search can reveal the info you need and you will eventually start to remember the details.\n",
        "\n",
        "Finally, let me also throw some noisy data into the mix:"
      ]
    },
    {
      "cell_type": "code",
      "execution_count": null,
      "metadata": {
        "id": "9fzbayq8EVYP"
      },
      "outputs": [],
      "source": [
        "# This gives you ten random numbers between -10 an 10\n",
        "X = 20.0 * np.random.rand(10) - 10.0\n",
        "# Let's use the first function to generate the noisy y's\n",
        "Y = np.sin(X) / X + 0.1 * np.random.randn(10)\n",
        "# The last part added a bit of noise \n",
        "fig, ax = plt.subplots(dpi=150)\n",
        "ax.plot(xs, ys, 'g', label='$f(x)$')\n",
        "ax.plot(xs, np.sin(xs) ** 2 / xs, 'r--', label='$g(x)$')\n",
        "ax.plot(X, Y, 'xk', label='Data')\n",
        "ax.set_xlabel('$x$')\n",
        "ax.set_ylabel('$y$')\n",
        "ax.set_title('Some title')\n",
        "plt.legend(loc='best')"
      ]
    },
    {
      "cell_type": "markdown",
      "metadata": {
        "id": "UvYD3wGsEVYR"
      },
      "source": [
        "## Questions\n",
        "\n",
        "+ Write code that plots this function:\n",
        "$$\n",
        "f(t) = e^{-0.5t}\\sin(2\\pi t),\n",
        "$$\n",
        "for $t$ between $0$ and $5$."
      ]
    },
    {
      "cell_type": "markdown",
      "metadata": {
        "id": "xWdXCX2aEVYR"
      },
      "source": [
        "## Scatter plots\n",
        "\n",
        "Let's load the data from the previous hands-on activity:"
      ]
    },
    {
      "cell_type": "code",
      "execution_count": null,
      "metadata": {
        "id": "n0wksg5eEVYT"
      },
      "outputs": [],
      "source": [
        "# Make sure you run this on Google Colab\n",
        "import requests\n",
        "import os\n",
        "def download(url, local_filename=None):\n",
        "    \"\"\"\n",
        "    Downloads the file in the ``url`` and saves it in the current working directory.\n",
        "    \"\"\"\n",
        "    data = requests.get(url)\n",
        "    if local_filename is None:\n",
        "        local_filename = os.path.basename(url)\n",
        "    with open(local_filename, 'wb') as fd:\n",
        "        fd.write(data.content)\n",
        "   \n",
        "# The url of the file we want to download\n",
        "url = 'https://raw.githubusercontent.com/PredictiveScienceLab/data-analytics-se/master/activities/temp_price.csv'\n",
        "download(url)"
      ]
    },
    {
      "cell_type": "code",
      "execution_count": null,
      "metadata": {
        "id": "x_IFJWepEVYU"
      },
      "outputs": [],
      "source": [
        "import pandas as pd\n",
        "# Reads a csv file into the pandas framework\n",
        "temp_price = pd.read_csv('temp_price.csv')\n",
        "temp_price.head()"
      ]
    },
    {
      "cell_type": "markdown",
      "metadata": {
        "id": "eKLsFuGbEVYU"
      },
      "source": [
        "We are going to clean them up as we did before:"
      ]
    },
    {
      "cell_type": "code",
      "execution_count": null,
      "metadata": {
        "id": "vZZygwDZEVYV"
      },
      "outputs": [],
      "source": [
        "clean_data = temp_price.dropna(axis=0).rename(columns={'Price per week': 'week_price',\n",
        "                                                       'Price per day': 'daily_price'})\n",
        "clean_data.head()"
      ]
    },
    {
      "cell_type": "markdown",
      "metadata": {
        "id": "sFPZ71ntEVYW"
      },
      "source": [
        "Let's try and visualze the data to gain some insight about them. In this section we will look at scatter plots and histograms. If you want to look at the documentation, then click on the links.\n",
        "+ [Scatter Plots](https://pandas.pydata.org/docs/reference/api/pandas.DataFrame.plot.scatter.html?highlight=scatter): documentation tells how to build a scatter plot in pandas\n",
        "+ [Histograms](https://pandas.pydata.org/docs/reference/api/pandas.Series.hist.html?highlight=hist#pandas.Series.hist): documentation tells how build a histogram in pandas"
      ]
    },
    {
      "cell_type": "code",
      "execution_count": null,
      "metadata": {
        "id": "oETbzqTlEVYX"
      },
      "outputs": [],
      "source": [
        "# Building a scatter plot\n",
        "fig, ax = plt.subplots()\n",
        "ax.scatter(clean_data['t_unit'], clean_data['hvac'])\n",
        "ax.set_xlabel('Unit Temperature (F)')\n",
        "ax.set_ylabel('HVAC energy consumed (kWh)');"
      ]
    },
    {
      "cell_type": "markdown",
      "metadata": {
        "id": "kPSVyQf-EVYX"
      },
      "source": [
        "We observe that higher unit temperature in general leads to higher HVAC energy consumption.\n",
        "However, the relation is not linear.\n",
        "This is because the appartments in this building have different physical characteristics.\n",
        "For example, an appartment that is at the corner of the the building has more of each external surfaces to the environment and thus it needs more energy to maintain a given temperature than an appartment that is, say, in the middle of the building.\n",
        "\n",
        "And here is a histogram of the unit temperature:"
      ]
    },
    {
      "cell_type": "code",
      "execution_count": null,
      "metadata": {
        "id": "yTt9WMz0EVYY"
      },
      "outputs": [],
      "source": [
        "# Building a histogram\n",
        "fig, ax = plt.subplots()\n",
        "ax.hist(clean_data['t_unit'], bins=10, color='orange')\n",
        "ax.set_xlabel('Temperature (F)')\n",
        "ax.set_ylabel('Number of Apartments')\n",
        "ax.set_title('Temperature Frequency in Apartments');"
      ]
    },
    {
      "cell_type": "markdown",
      "metadata": {
        "id": "9h0lxcNXEVYZ"
      },
      "source": [
        "### Questions\n",
        "\n",
        "Using the energy data do the following\n",
        "+ Build a scatter plot of price (x-axis) vs score and another plot of the price (x-axis) vs. HVAC consumed\n",
        "\n",
        "+ Build histograms of the score and another histogram of the HVAC consumption of the apartments\n",
        "\n",
        "For each plot include x and y labels, titles and specify the number of bins you choose. \n",
        "\n",
        "Once you are done plotting, write down your observations about each in a markdown cell. "
      ]
    },
    {
      "cell_type": "code",
      "execution_count": null,
      "metadata": {
        "id": "XRGBD_wqEVYZ"
      },
      "outputs": [],
      "source": [
        "# Your code here"
      ]
    },
    {
      "cell_type": "markdown",
      "metadata": {
        "id": "889jI3ziEVYa"
      },
      "source": [
        "Your comments in cells like this"
      ]
    }
  ],
  "metadata": {
    "kernelspec": {
      "display_name": "Python 3",
      "language": "python",
      "name": "python3"
    },
    "language_info": {
      "codemirror_mode": {
        "name": "ipython",
        "version": 3
      },
      "file_extension": ".py",
      "mimetype": "text/x-python",
      "name": "python",
      "nbconvert_exporter": "python",
      "pygments_lexer": "ipython3",
      "version": "3.7.7"
    },
    "colab": {
      "name": "python-basics-11.ipynb",
      "provenance": [],
      "include_colab_link": true
    }
  },
  "nbformat": 4,
  "nbformat_minor": 0
}