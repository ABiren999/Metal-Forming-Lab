{
  "cells": [
    {
      "cell_type": "markdown",
      "metadata": {
        "id": "view-in-github",
        "colab_type": "text"
      },
      "source": [
        "<a href=\"https://colab.research.google.com/github/BireNbarik/Metal-Forming-Lab/blob/main/activities/python-basics-9.ipynb\" target=\"_parent\"><img src=\"https://colab.research.google.com/assets/colab-badge.svg\" alt=\"Open In Colab\"/></a>"
      ]
    },
    {
      "cell_type": "markdown",
      "metadata": {
        "id": "dy__1Xa-EUID"
      },
      "source": [
        "# Python Basics 9: Numpy Arrays and Linear Algebra\n",
        "\n",
        "The ability to do basic things with numerical arrays (vectors and matrices) is extremely important in data science applications.\n",
        "We do numerical algebra in Python using the [Numpy](https://numpy.org/).\n",
        "Numpy is a **huge** Python library and it has a lot of details.\n",
        "We are going to cover the very basics here.\n",
        "When there is something specific that you want to do, the best way to figure out how to do it is to Google it.\n",
        "\n",
        "First, let's import ``numpy``.\n",
        "We typically, do it by creating a shortcut called ``np``:"
      ]
    },
    {
      "cell_type": "code",
      "execution_count": null,
      "metadata": {
        "id": "8IQhORo3EUIW"
      },
      "outputs": [],
      "source": [
        "import numpy as np"
      ]
    },
    {
      "cell_type": "markdown",
      "metadata": {
        "id": "wepIv1r_EUJL"
      },
      "source": [
        "In this way you can access whatever is in ``numpy`` by going throuh ``np`` which is less characters.\n",
        "Let's create a 1D numpy array from a list:"
      ]
    },
    {
      "cell_type": "code",
      "execution_count": null,
      "metadata": {
        "id": "ftpq8ky8EUJP"
      },
      "outputs": [],
      "source": [
        "a = np.array([1.2, 2.0, 3.0, -1.0, 2.0])\n",
        "print(a)"
      ]
    },
    {
      "cell_type": "markdown",
      "metadata": {
        "id": "lB_ltaLLEUJR"
      },
      "source": [
        "This behaves just like a vector in Matlab.\n",
        "You can multiply with a number:"
      ]
    },
    {
      "cell_type": "code",
      "execution_count": null,
      "metadata": {
        "id": "8R5v0RtbEUJS"
      },
      "outputs": [],
      "source": [
        "2.0 * a"
      ]
    },
    {
      "cell_type": "code",
      "execution_count": null,
      "metadata": {
        "id": "8SJw-eJSEUJT"
      },
      "outputs": [],
      "source": [
        "a * 3"
      ]
    },
    {
      "cell_type": "markdown",
      "metadata": {
        "id": "x46uNRhxEUJV"
      },
      "source": [
        "You can add another vector (of the same size):"
      ]
    },
    {
      "cell_type": "code",
      "execution_count": null,
      "metadata": {
        "id": "J-jpGUx4EUJW"
      },
      "outputs": [],
      "source": [
        "b = np.array([1, 2, 3, 4, 5])\n",
        "c = a + b\n",
        "c"
      ]
    },
    {
      "cell_type": "markdown",
      "metadata": {
        "id": "DHUu79HKEUWV"
      },
      "source": [
        "You can raise all elements to a power:"
      ]
    },
    {
      "cell_type": "code",
      "execution_count": null,
      "metadata": {
        "id": "0yWaUokEEUWX"
      },
      "outputs": [],
      "source": [
        "a ** 3"
      ]
    },
    {
      "cell_type": "markdown",
      "metadata": {
        "id": "CKhOZpe2EUWZ"
      },
      "source": [
        "Or you can apply a standard function to all elements:"
      ]
    },
    {
      "cell_type": "code",
      "execution_count": null,
      "metadata": {
        "id": "iaUdSEibEUWa"
      },
      "outputs": [],
      "source": [
        "np.exp(a)"
      ]
    },
    {
      "cell_type": "code",
      "execution_count": null,
      "metadata": {
        "id": "V8oinRbJEUWb"
      },
      "outputs": [],
      "source": [
        "np.cos(a)"
      ]
    },
    {
      "cell_type": "code",
      "execution_count": null,
      "metadata": {
        "id": "rqqUAfklEUWc"
      },
      "outputs": [],
      "source": [
        "np.sin(a)"
      ]
    },
    {
      "cell_type": "code",
      "execution_count": null,
      "metadata": {
        "id": "sG6pYscyEUWd"
      },
      "outputs": [],
      "source": [
        "np.tan(a)"
      ]
    },
    {
      "cell_type": "markdown",
      "metadata": {
        "id": "L4GbraQKEUWn"
      },
      "source": [
        "Notice that the functions you can use are in ``np``.\n",
        "Here is how you can get how many elements you have in the array:"
      ]
    },
    {
      "cell_type": "code",
      "execution_count": null,
      "metadata": {
        "id": "ez0Ob3xGEUWo"
      },
      "outputs": [],
      "source": [
        "a.shape"
      ]
    },
    {
      "cell_type": "markdown",
      "metadata": {
        "id": "pHQRq_tREUWp"
      },
      "source": [
        "Also, to see if this is a 1D array (higher dimensional arrays, 2D, 3D, etc. are also possible), you can use this:"
      ]
    },
    {
      "cell_type": "code",
      "execution_count": null,
      "metadata": {
        "id": "gfZiciFLEUWq"
      },
      "outputs": [],
      "source": [
        "a.ndim"
      ]
    },
    {
      "cell_type": "markdown",
      "metadata": {
        "id": "ZVPmo69DEUWr"
      },
      "source": [
        "You access the elements of the array just like the elements of a list:"
      ]
    },
    {
      "cell_type": "code",
      "execution_count": null,
      "metadata": {
        "id": "ZoQDo3EFEUWs"
      },
      "outputs": [],
      "source": [
        "a[0]"
      ]
    },
    {
      "cell_type": "code",
      "execution_count": null,
      "metadata": {
        "id": "Z6gLFKv3EUWt"
      },
      "outputs": [],
      "source": [
        "a[1]"
      ]
    },
    {
      "cell_type": "code",
      "execution_count": null,
      "metadata": {
        "id": "zSjJnPHQEUWu"
      },
      "outputs": [],
      "source": [
        "a[2:4]"
      ]
    },
    {
      "cell_type": "code",
      "execution_count": null,
      "metadata": {
        "id": "gcbo2pPNEUWu"
      },
      "outputs": [],
      "source": [
        "a[::2]"
      ]
    },
    {
      "cell_type": "code",
      "execution_count": null,
      "metadata": {
        "id": "4xVMDrBYEUWv"
      },
      "outputs": [],
      "source": [
        "a[::-1]"
      ]
    },
    {
      "cell_type": "markdown",
      "metadata": {
        "id": "uqRcqzjYEUWw"
      },
      "source": [
        "You can find the minimum or the maximum of the array like this:"
      ]
    },
    {
      "cell_type": "code",
      "execution_count": null,
      "metadata": {
        "id": "uoQd-SMAEUWw"
      },
      "outputs": [],
      "source": [
        "a.min()"
      ]
    },
    {
      "cell_type": "code",
      "execution_count": null,
      "metadata": {
        "id": "vzfoTVBfEUWx"
      },
      "outputs": [],
      "source": [
        "a.max()"
      ]
    },
    {
      "cell_type": "markdown",
      "metadata": {
        "id": "uMVQg2mMEUWy"
      },
      "source": [
        "So, notice that ``a`` is an object of a class.\n",
        "The class is called ``np.ndarray``:"
      ]
    },
    {
      "cell_type": "code",
      "execution_count": null,
      "metadata": {
        "id": "oe_pRzgLEUWy"
      },
      "outputs": [],
      "source": [
        "type(a)"
      ]
    },
    {
      "cell_type": "markdown",
      "metadata": {
        "id": "k0RJb_tBEUWz"
      },
      "source": [
        "and ``min()`` and ``max()`` are functions of the ``np.ndarray`` class.\n",
        "Another function of the class is the dot product:"
      ]
    },
    {
      "cell_type": "code",
      "execution_count": null,
      "metadata": {
        "id": "_54f3c-rEUWz"
      },
      "outputs": [],
      "source": [
        "a.dot(b)"
      ]
    },
    {
      "cell_type": "markdown",
      "metadata": {
        "id": "O4EaOPdMEUW0"
      },
      "source": [
        "There is also a submodule called ``numpy.linalg`` which has some linear algebra functions you can apply to arrays.\n",
        "For 1D arrays (aka vectors) the vector norm is a useful one:"
      ]
    },
    {
      "cell_type": "code",
      "execution_count": null,
      "metadata": {
        "id": "ea2xyzobEUW2"
      },
      "outputs": [],
      "source": [
        "np.linalg.norm(a)"
      ]
    },
    {
      "cell_type": "code",
      "execution_count": null,
      "metadata": {
        "id": "Bv0NDu-VEUW5"
      },
      "outputs": [],
      "source": [
        "help(np.linalg.norm)"
      ]
    },
    {
      "cell_type": "markdown",
      "metadata": {
        "id": "vQsu3GG-EUW9"
      },
      "source": [
        "## Questions\n",
        "Consider the two vectors:"
      ]
    },
    {
      "cell_type": "code",
      "execution_count": null,
      "metadata": {
        "id": "f7oDvQAjEUW-"
      },
      "outputs": [],
      "source": [
        "r1 = np.array([1.0, -2.0, 3.0])\n",
        "r2 = np.array([2.0, 2.0, -3.0])"
      ]
    },
    {
      "cell_type": "markdown",
      "metadata": {
        "id": "426SHQilEUXI"
      },
      "source": [
        "Use numpy functionality to:\n",
        "+ Find a unit vector in the direction of ``r1``:"
      ]
    },
    {
      "cell_type": "code",
      "execution_count": null,
      "metadata": {
        "id": "MJDWYcBwEUXK"
      },
      "outputs": [],
      "source": [
        "# Your code here"
      ]
    },
    {
      "cell_type": "markdown",
      "metadata": {
        "id": "UaY37T29EUXK"
      },
      "source": [
        "+ Find the angle between ``r1`` and ``r2`` in radians:"
      ]
    },
    {
      "cell_type": "code",
      "execution_count": null,
      "metadata": {
        "id": "lqusl74REUXM"
      },
      "outputs": [],
      "source": [
        "# Your code here"
      ]
    },
    {
      "cell_type": "markdown",
      "metadata": {
        "id": "ItH6xujSEUXM"
      },
      "source": [
        "+ The projection of ``r2`` on ``r1``:"
      ]
    },
    {
      "cell_type": "code",
      "execution_count": null,
      "metadata": {
        "id": "L9J4LhhrEUXN"
      },
      "outputs": [],
      "source": [
        "# Your code here"
      ]
    },
    {
      "cell_type": "markdown",
      "metadata": {
        "id": "6uxR45hsEUXN"
      },
      "source": [
        "+ Use [numpy.cross](https://numpy.org/doc/stable/reference/generated/numpy.cross.html) to find the cross product between ``r2`` and ``r1``. Then, verify numerically (using numpy functionality) that $\\vec{r}_1\\cdot\\left(\\vec{r}_1\\times\\vec{r}_2\\right) = 0$."
      ]
    },
    {
      "cell_type": "code",
      "execution_count": null,
      "metadata": {
        "id": "glfRAuVcEUXS"
      },
      "outputs": [],
      "source": [
        "# Your code here"
      ]
    },
    {
      "cell_type": "markdown",
      "metadata": {
        "id": "9kI0cCboEUXS"
      },
      "source": [
        "## Matrices\n",
        "\n",
        "Now, let's go to two dimensional arrays.\n",
        "Of course, you can think of the vectors as two dimensional arrays.\n",
        "In particular, you can think of them as a matrix with a single column.\n",
        "To do this in numpy you need to reshape the vectors:"
      ]
    },
    {
      "cell_type": "code",
      "execution_count": null,
      "metadata": {
        "id": "fYy-IzupEUeu"
      },
      "outputs": [],
      "source": [
        "# The original vector\n",
        "a"
      ]
    },
    {
      "cell_type": "code",
      "execution_count": null,
      "metadata": {
        "id": "jTrkgjn8EUev"
      },
      "outputs": [],
      "source": [
        "# The vector as a single column matrix\n",
        "acm = a.reshape((5, 1))\n",
        "acm"
      ]
    },
    {
      "cell_type": "code",
      "execution_count": null,
      "metadata": {
        "id": "ajGeLHaZEUew"
      },
      "outputs": [],
      "source": [
        "# There is one more way you can achieve the same thing\n",
        "# (and I am going to be using it because it requires less typing)\n",
        "acm = a[:, None]\n",
        "acm"
      ]
    },
    {
      "cell_type": "markdown",
      "metadata": {
        "id": "IuQzIWqKEUew"
      },
      "source": [
        "The code ``a[:, None]`` means \"pretend that the array has one more index that is always zero.\"\n",
        "\n",
        "Now, since ``acm`` is a 2D array:"
      ]
    },
    {
      "cell_type": "code",
      "execution_count": null,
      "metadata": {
        "id": "3HGvQlzvEUex"
      },
      "outputs": [],
      "source": [
        "acm.ndim"
      ]
    },
    {
      "cell_type": "markdown",
      "metadata": {
        "id": "18iUguWXEUex"
      },
      "source": [
        "Look also at the shape:"
      ]
    },
    {
      "cell_type": "code",
      "execution_count": null,
      "metadata": {
        "id": "kv_zX0V4EUey"
      },
      "outputs": [],
      "source": [
        "acm.shape"
      ]
    },
    {
      "cell_type": "markdown",
      "metadata": {
        "id": "kI2dsnDfEUez"
      },
      "source": [
        "So, the shape is (5, 1). This means that there are 5 rows and one colum.\n",
        "You can access elements in this 2D array with indices like this:"
      ]
    },
    {
      "cell_type": "code",
      "execution_count": null,
      "metadata": {
        "id": "g0Ruga1XEUez"
      },
      "outputs": [],
      "source": [
        "acm[0, 0]"
      ]
    },
    {
      "cell_type": "code",
      "execution_count": null,
      "metadata": {
        "id": "AYK9epN_EUe0"
      },
      "outputs": [],
      "source": [
        "acm[1, 0]"
      ]
    },
    {
      "cell_type": "markdown",
      "metadata": {
        "id": "ttOGsVRMEUe1"
      },
      "source": [
        "And so on. Of course, the second index can only be zero because you only have one column.\n",
        "\n",
        "Let's now make a 2D matrix to play with:"
      ]
    },
    {
      "cell_type": "code",
      "execution_count": null,
      "metadata": {
        "id": "pm7xy3RdEUe1"
      },
      "outputs": [],
      "source": [
        "A = np.array([[2.0, -1.0, 0.0, 0.0, 0.0],\n",
        "              [-1.0, 2.0, -1.0, 0.0, 0.0],\n",
        "              [0.0, -1.0, 2.0, -1.0, 0.0],\n",
        "              [0.0, 0.0, -1.0, 2.0, -1.0],\n",
        "              [0.0, 0.0, 0.0, -1.0, 2.0]\n",
        "             ])\n",
        "A"
      ]
    },
    {
      "cell_type": "markdown",
      "metadata": {
        "id": "bXD-4ju-EUe2"
      },
      "source": [
        "Notice that we used an list of rows and each row was a list of numbers.\n",
        "Here are the dimensions of ``A``:"
      ]
    },
    {
      "cell_type": "code",
      "execution_count": null,
      "metadata": {
        "id": "p3m6aq-_EUe2"
      },
      "outputs": [],
      "source": [
        "A.ndim"
      ]
    },
    {
      "cell_type": "code",
      "execution_count": null,
      "metadata": {
        "id": "NULV_9VfEUe3"
      },
      "outputs": [],
      "source": [
        "A.shape"
      ]
    },
    {
      "cell_type": "markdown",
      "metadata": {
        "id": "nh7HMkYfEUe5"
      },
      "source": [
        "Let's access some elements of ``A``:"
      ]
    },
    {
      "cell_type": "code",
      "execution_count": null,
      "metadata": {
        "id": "1GgduqJ9EUe5"
      },
      "outputs": [],
      "source": [
        "A[0, 0]"
      ]
    },
    {
      "cell_type": "code",
      "execution_count": null,
      "metadata": {
        "id": "D4yk69RoEUe6"
      },
      "outputs": [],
      "source": [
        "A[2, 2]"
      ]
    },
    {
      "cell_type": "markdown",
      "metadata": {
        "id": "hwbwmX_xEUe6"
      },
      "source": [
        "You can access the 3rd row like this:"
      ]
    },
    {
      "cell_type": "code",
      "execution_count": null,
      "metadata": {
        "id": "Bd1B5_x2EUe7"
      },
      "outputs": [],
      "source": [
        "A[2]"
      ]
    },
    {
      "cell_type": "markdown",
      "metadata": {
        "id": "s1SXJRjVEUe7"
      },
      "source": [
        "You can get a submatrix, say the first 3x3 submatrix like this:"
      ]
    },
    {
      "cell_type": "code",
      "execution_count": null,
      "metadata": {
        "id": "P1bGyAtuEUe8"
      },
      "outputs": [],
      "source": [
        "A[:3, :3]"
      ]
    },
    {
      "cell_type": "markdown",
      "metadata": {
        "id": "Ai_r4szpEUe8"
      },
      "source": [
        "And so on.\n",
        "\n",
        "You can multiply matrices with numbers:"
      ]
    },
    {
      "cell_type": "code",
      "execution_count": null,
      "metadata": {
        "id": "RMBdMtF9EUe8"
      },
      "outputs": [],
      "source": [
        "2.0 * A"
      ]
    },
    {
      "cell_type": "code",
      "execution_count": null,
      "metadata": {
        "id": "CZZhuro8EUe9"
      },
      "outputs": [],
      "source": [
        "A * 3.0"
      ]
    },
    {
      "cell_type": "markdown",
      "metadata": {
        "id": "Nn4CtuzmEUe9"
      },
      "source": [
        "You can raise them to a power:"
      ]
    },
    {
      "cell_type": "code",
      "execution_count": null,
      "metadata": {
        "id": "LmfaDt0XEUfA"
      },
      "outputs": [],
      "source": [
        "A ** 3"
      ]
    },
    {
      "cell_type": "markdown",
      "metadata": {
        "id": "S2el4ynBEUfA"
      },
      "source": [
        "You can pass them through functions:"
      ]
    },
    {
      "cell_type": "code",
      "execution_count": null,
      "metadata": {
        "id": "kyBAbfSZEUfB"
      },
      "outputs": [],
      "source": [
        "np.exp(A)"
      ]
    },
    {
      "cell_type": "markdown",
      "metadata": {
        "id": "JAvPqlX8EUfB"
      },
      "source": [
        "You can add them together:"
      ]
    },
    {
      "cell_type": "code",
      "execution_count": null,
      "metadata": {
        "id": "FpldxLRqEUfC"
      },
      "outputs": [],
      "source": [
        "A + A"
      ]
    },
    {
      "cell_type": "markdown",
      "metadata": {
        "id": "gdp1naeSEUfC"
      },
      "source": [
        "You can multiply them together (assuming that the dimensions match):"
      ]
    },
    {
      "cell_type": "code",
      "execution_count": null,
      "metadata": {
        "id": "O02Y5c8AEUfD"
      },
      "outputs": [],
      "source": [
        "A.dot(A)"
      ]
    },
    {
      "cell_type": "markdown",
      "metadata": {
        "id": "EmbQNJwhEUfD"
      },
      "source": [
        "You can multiply a matrix with a vector:"
      ]
    },
    {
      "cell_type": "code",
      "execution_count": null,
      "metadata": {
        "id": "OdDLx4IiEUfQ"
      },
      "outputs": [],
      "source": [
        "A.dot(a)"
      ]
    },
    {
      "cell_type": "markdown",
      "metadata": {
        "id": "KvSu_Za8EUfQ"
      },
      "source": [
        "Remember the column matrix ``acm``:"
      ]
    },
    {
      "cell_type": "code",
      "execution_count": null,
      "metadata": {
        "id": "0D2DgZvVEUfQ"
      },
      "outputs": [],
      "source": [
        "acm"
      ]
    },
    {
      "cell_type": "markdown",
      "metadata": {
        "id": "04QlWHFFEUfR"
      },
      "source": [
        "You can also multiply the matrix with it since the dimensions match:"
      ]
    },
    {
      "cell_type": "code",
      "execution_count": null,
      "metadata": {
        "id": "q8zjq54LEUfR"
      },
      "outputs": [],
      "source": [
        "A.dot(acm)"
      ]
    },
    {
      "cell_type": "markdown",
      "metadata": {
        "id": "NHo5TZaqEUfS"
      },
      "source": [
        "You can also multiply ``acm`` (5x1) with its transpose (1x5).\n",
        "The transpose is:"
      ]
    },
    {
      "cell_type": "code",
      "execution_count": null,
      "metadata": {
        "id": "41k0cDL3EUfW"
      },
      "outputs": [],
      "source": [
        "acm.T"
      ]
    },
    {
      "cell_type": "markdown",
      "metadata": {
        "id": "d9Ef_qfxEUfX"
      },
      "source": [
        "And here is the result of the multiplication:"
      ]
    },
    {
      "cell_type": "code",
      "execution_count": null,
      "metadata": {
        "id": "VXi2dd-kEUfX"
      },
      "outputs": [],
      "source": [
        "acm.dot(acm.T)"
      ]
    },
    {
      "cell_type": "markdown",
      "metadata": {
        "id": "FVSm0xl3EUfY"
      },
      "source": [
        "Here is another example of the transpose operator:"
      ]
    },
    {
      "cell_type": "code",
      "execution_count": null,
      "metadata": {
        "id": "JOyVV32MEUfY"
      },
      "outputs": [],
      "source": [
        "B = np.arange(25).reshape(5, 5)\n",
        "B"
      ]
    },
    {
      "cell_type": "code",
      "execution_count": null,
      "metadata": {
        "id": "zFZcbeahEUfZ"
      },
      "outputs": [],
      "source": [
        "B.T"
      ]
    },
    {
      "cell_type": "markdown",
      "metadata": {
        "id": "-zoSZkx2EUfZ"
      },
      "source": [
        "There are some special numpy functions for creating arrays.\n",
        "Here is how to make an array of zeros:"
      ]
    },
    {
      "cell_type": "code",
      "execution_count": null,
      "metadata": {
        "id": "4ICt80F3EUfa"
      },
      "outputs": [],
      "source": [
        "np.zeros((4, 5))"
      ]
    },
    {
      "cell_type": "markdown",
      "metadata": {
        "id": "wJCXvepvEUfb"
      },
      "source": [
        "An array of ones:"
      ]
    },
    {
      "cell_type": "code",
      "execution_count": null,
      "metadata": {
        "id": "5WMmY5yzEUfb"
      },
      "outputs": [],
      "source": [
        "np.ones((5, 2))"
      ]
    },
    {
      "cell_type": "markdown",
      "metadata": {
        "id": "4plM-zH8EUfc"
      },
      "source": [
        "A unit matrix:"
      ]
    },
    {
      "cell_type": "code",
      "execution_count": null,
      "metadata": {
        "id": "ntjFDAlEEUfc"
      },
      "outputs": [],
      "source": [
        "np.eye(5)"
      ]
    },
    {
      "cell_type": "markdown",
      "metadata": {
        "id": "a7BaGrXaEUfd"
      },
      "source": [
        "Now, we typically want to do some more linear algebra with matrices.\n",
        "For example, we may want to get the determinant of a matrix:"
      ]
    },
    {
      "cell_type": "code",
      "execution_count": null,
      "metadata": {
        "id": "dik0RP4tEUfe"
      },
      "outputs": [],
      "source": [
        "np.linalg.det(A)"
      ]
    },
    {
      "cell_type": "markdown",
      "metadata": {
        "id": "PZpH1uS4EUfe"
      },
      "source": [
        "Or we may want to solve a linear system of the form:\n",
        "$$\n",
        "A x = b,\n",
        "$$\n",
        "where $b$ is a given vector and $x$ is the uknown vector we are looking for.\n",
        "Let's create and solve such a linear system."
      ]
    },
    {
      "cell_type": "code",
      "execution_count": null,
      "metadata": {
        "id": "ieKbyYCgEUlv"
      },
      "outputs": [],
      "source": [
        "# I already have 5x5 matrix A, just define the b:\n",
        "b = np.array([2.0, -1.0, 3.0, 4.0, 2.0])"
      ]
    },
    {
      "cell_type": "code",
      "execution_count": null,
      "metadata": {
        "id": "2O2cgpVzEUlv"
      },
      "outputs": [],
      "source": [
        "# Here is how to solve the linear system:\n",
        "x = np.linalg.solve(A, b)\n",
        "x"
      ]
    },
    {
      "cell_type": "markdown",
      "metadata": {
        "id": "t1nxyJ4-EUlw"
      },
      "source": [
        "Let's see if the solution works as expected by calculating $Ax$:"
      ]
    },
    {
      "cell_type": "code",
      "execution_count": null,
      "metadata": {
        "id": "8O-jWYHnEUlw"
      },
      "outputs": [],
      "source": [
        "print('Ax = ', A.dot(x))\n",
        "print('b  = ', b)"
      ]
    },
    {
      "cell_type": "markdown",
      "metadata": {
        "id": "zvFglUR2EUlx"
      },
      "source": [
        "You can also find the eigenvalues of a matrix:"
      ]
    },
    {
      "cell_type": "code",
      "execution_count": null,
      "metadata": {
        "id": "_yD7MoHgEUlx"
      },
      "outputs": [],
      "source": [
        "lam, v = np.linalg.eig(A)"
      ]
    },
    {
      "cell_type": "markdown",
      "metadata": {
        "id": "40oJuqA9EUl3"
      },
      "source": [
        "The eigenvalues are:"
      ]
    },
    {
      "cell_type": "code",
      "execution_count": null,
      "metadata": {
        "id": "3bRMwVXZEUl4"
      },
      "outputs": [],
      "source": [
        "lam"
      ]
    },
    {
      "cell_type": "markdown",
      "metadata": {
        "id": "AHHQpXXbEUl8"
      },
      "source": [
        "The eigenvectors are put in a matrix:"
      ]
    },
    {
      "cell_type": "code",
      "execution_count": null,
      "metadata": {
        "id": "597whEgzEUl9"
      },
      "outputs": [],
      "source": [
        "v"
      ]
    },
    {
      "cell_type": "markdown",
      "metadata": {
        "id": "vIlz79EZEUl-"
      },
      "source": [
        "So, each column of that matrix is an eigenvector.\n",
        "Let's test that \n",
        "$$\n",
        "A v_i = \\lambda_i v_i,\n",
        "$$\n",
        "for the $i$-th eigenvalue:"
      ]
    },
    {
      "cell_type": "code",
      "execution_count": null,
      "metadata": {
        "id": "rZqtmCgHEUl-"
      },
      "outputs": [],
      "source": [
        "# Which eigenvalue do you want to test:\n",
        "i = 0\n",
        "print('Av_i        = ', A.dot(v[:, i]))\n",
        "print('lamda_i v_i = ', lam[i] * v[:, i])"
      ]
    },
    {
      "cell_type": "markdown",
      "metadata": {
        "id": "rOmoZXDLEUl_"
      },
      "source": [
        "By the way, ``v[:, i]`` gives you the $i$-th column of the matrix ``v``."
      ]
    },
    {
      "cell_type": "markdown",
      "metadata": {
        "id": "sSa8v2bREUl_"
      },
      "source": [
        "### Questions\n",
        "\n",
        "+ Consider the quadratic function:\n",
        "$$\n",
        "f(x_1, x_2) = x_1^2 -x_1x_2 + x_2^2 + 3x_1 + 4x_2.\n",
        "$$\n",
        "We are interested in finding its minimum.\n",
        "A necessary condition for the minimum is that the gradient of $f(x_1, x_2)$ is zero.\n",
        "The gradient is:\n",
        "$$\n",
        "\\frac{\\partial f(x_1,x_2)}{\\partial x_1} = 2x_1 -x_2 + 3 = 0,\n",
        "$$\n",
        "and\n",
        "$$\n",
        "\\frac{\\partial f(x_1, x_2)}{\\partial x_2} = -x_1 + 2x_2 + 4 = 0.\n",
        "$$\n",
        "Rearranging, we get the two equations:\n",
        "$$\n",
        "\\begin{array}{ccc}\n",
        "2x_1 - x_2 &=& -3,\\\\\n",
        "-x_1 + 2x_2 &=& -4.\\\\\n",
        "\\end{array}\n",
        "$$\n",
        "These can also be written in matrix-vector form:\n",
        "$$\n",
        "\\begin{bmatrix}\n",
        "2 &-1\\\\\n",
        "-1 & 2\n",
        "\\end{bmatrix}\\cdot\n",
        "\\begin{bmatrix}\n",
        "x_1\\\\\n",
        "x_2\n",
        "\\end{bmatrix}\n",
        "= \\begin{bmatrix}\n",
        "-3\\\\\n",
        "-4\n",
        "\\end{bmatrix}.\n",
        "$$\n",
        "Use the numpy functionality to solve this linear system and thus find the minimum of $f(x_1,x_2)$."
      ]
    },
    {
      "cell_type": "code",
      "execution_count": null,
      "metadata": {
        "id": "AjnM2PU9EUmA"
      },
      "outputs": [],
      "source": [
        "# your code here"
      ]
    },
    {
      "cell_type": "markdown",
      "metadata": {
        "id": "VFWFDgqREUmB"
      },
      "source": [
        "+ For the point you found above to be a true minimum of the $f(x_1,x_2)$ (and not a maximum for example) is that the matrix of second derivatives (the so-called Hessian matrix) must be positive definite, i.e., that the matrix has only positive eigenvalues.\n",
        "The hessian matrix in this problem is:\n",
        "$$\n",
        "H = \\begin{bmatrix}\n",
        "\\frac{\\partial^2 f(x_1,x_2)}{\\partial x_1^2}& \\frac{\\partial^2 f(x_1,x_2)}{\\partial x_1\\partial x_2}\\\\\n",
        "\\frac{\\partial^2 f(x_1,x_2)}{\\partial x_1\\partial x_2} & \\frac{\\partial^2 f(x_1,x_2)}{\\partial x_1^2}\n",
        "\\end{bmatrix} =\n",
        "\\begin{bmatrix}\n",
        "2 &-1\\\\\n",
        "-1 & 2\n",
        "\\end{bmatrix}.\n",
        "$$\n",
        "Use numpy functionality to verify that the matrix $H$ is indeed positive definite."
      ]
    },
    {
      "cell_type": "code",
      "execution_count": null,
      "metadata": {
        "id": "BFZODzXLEUmB"
      },
      "outputs": [],
      "source": [
        "# your code here"
      ]
    },
    {
      "cell_type": "markdown",
      "metadata": {
        "id": "_tG6o7GYEUmC"
      },
      "source": [
        "+ If $H$ is a positive definite matrix, then the following property is true for any vector $x\\not = 0$:\n",
        "$$\n",
        "x^THx \\ge 0.\n",
        "$$\n",
        "In words, if you sandwich $H$ around the same vector produce a scalar, that scalar is a positive number.\n",
        "Test this hypothesis numerically using numpy functioanlity.\n",
        "Hint: Use the ``dot`` function and twich to calculate $x^THx$."
      ]
    },
    {
      "cell_type": "code",
      "execution_count": null,
      "metadata": {
        "id": "g10y_BjKEUmU"
      },
      "outputs": [],
      "source": [
        "# here is a random vector for you to play with:\n",
        "x = np.random.randn(2)\n",
        "print('x = ', x)\n",
        "# Your code here: Compute x^T * H * x:"
      ]
    },
    {
      "cell_type": "markdown",
      "metadata": {
        "id": "5cRSjv1BEUmU"
      },
      "source": [
        "## Multi-dimensional numpy arrays\n",
        "\n",
        "You can have 3D numpy arrays:"
      ]
    },
    {
      "cell_type": "code",
      "execution_count": null,
      "metadata": {
        "id": "5o0QRzAoEUmV"
      },
      "outputs": [],
      "source": [
        "C = np.random.randn(10, 3, 4)\n",
        "C"
      ]
    },
    {
      "cell_type": "code",
      "execution_count": null,
      "metadata": {
        "id": "7QXKc-7REUmV"
      },
      "outputs": [],
      "source": [
        "C.ndim"
      ]
    },
    {
      "cell_type": "code",
      "execution_count": null,
      "metadata": {
        "id": "loapZBR4EUmW"
      },
      "outputs": [],
      "source": [
        "C.shape"
      ]
    },
    {
      "cell_type": "code",
      "execution_count": null,
      "metadata": {
        "id": "TdoXVbPoEUmW"
      },
      "outputs": [],
      "source": [
        "C[0, 2, 3]"
      ]
    },
    {
      "cell_type": "code",
      "execution_count": null,
      "metadata": {
        "id": "mHaSTHxxEUmX"
      },
      "outputs": [],
      "source": [
        "C[0]"
      ]
    },
    {
      "cell_type": "code",
      "execution_count": null,
      "metadata": {
        "id": "8bR1KSrMEUmX"
      },
      "outputs": [],
      "source": [
        "C[0, 1]"
      ]
    },
    {
      "cell_type": "markdown",
      "metadata": {
        "id": "5JabV6lrEUmb"
      },
      "source": [
        "Or even higher dimensional:"
      ]
    },
    {
      "cell_type": "code",
      "execution_count": null,
      "metadata": {
        "id": "Y1hy-JeNEUmc"
      },
      "outputs": [],
      "source": [
        "D = np.random.randn(3, 4, 5, 2, 5)"
      ]
    },
    {
      "cell_type": "code",
      "execution_count": null,
      "metadata": {
        "id": "7S5a3B1EEUmc"
      },
      "outputs": [],
      "source": [
        "D.ndim"
      ]
    },
    {
      "cell_type": "code",
      "execution_count": null,
      "metadata": {
        "id": "GqDGmpcCEUmd"
      },
      "outputs": [],
      "source": [
        "D.shape"
      ]
    },
    {
      "cell_type": "markdown",
      "metadata": {
        "id": "3BALey-kEUmd"
      },
      "source": [
        "Of course, most of the time we will be working with 1D (Vectors) and 2D (Matrices)."
      ]
    }
  ],
  "metadata": {
    "kernelspec": {
      "display_name": "Python 3",
      "language": "python",
      "name": "python3"
    },
    "language_info": {
      "codemirror_mode": {
        "name": "ipython",
        "version": 3
      },
      "file_extension": ".py",
      "mimetype": "text/x-python",
      "name": "python",
      "nbconvert_exporter": "python",
      "pygments_lexer": "ipython3",
      "version": "3.7.7"
    },
    "colab": {
      "name": "python-basics-9.ipynb",
      "provenance": [],
      "include_colab_link": true
    }
  },
  "nbformat": 4,
  "nbformat_minor": 0
}