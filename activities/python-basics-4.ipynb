{
  "cells": [
    {
      "cell_type": "markdown",
      "metadata": {
        "id": "view-in-github",
        "colab_type": "text"
      },
      "source": [
        "<a href=\"https://colab.research.google.com/github/BireNbarik/Metal-Forming-Lab/blob/main/activities/python-basics-4.ipynb\" target=\"_parent\"><img src=\"https://colab.research.google.com/assets/colab-badge.svg\" alt=\"Open In Colab\"/></a>"
      ]
    },
    {
      "cell_type": "markdown",
      "metadata": {
        "id": "hU1yPJ8oEOPO"
      },
      "source": [
        "# Python Basics 4: Basics of Strings\n",
        "\n",
        "Python ``str``'s (\"str\" stands for \"string\") are used to represent text. Here is a string:"
      ]
    },
    {
      "cell_type": "code",
      "execution_count": null,
      "metadata": {
        "id": "WGLR-R0pEOPl"
      },
      "outputs": [],
      "source": [
        "x = \"This is a string\"\n",
        "x"
      ]
    },
    {
      "cell_type": "markdown",
      "metadata": {
        "id": "0zm8vZiHEOPp"
      },
      "source": [
        "We could have also used double quotes:"
      ]
    },
    {
      "cell_type": "code",
      "execution_count": null,
      "metadata": {
        "id": "eADV9PM5EOPq"
      },
      "outputs": [],
      "source": [
        "x = 'This is the same string'\n",
        "x"
      ]
    },
    {
      "cell_type": "markdown",
      "metadata": {
        "id": "EHIThNFrEOPs"
      },
      "source": [
        "Here is the string type:"
      ]
    },
    {
      "cell_type": "code",
      "execution_count": null,
      "metadata": {
        "id": "_WPmQ36JEOPt"
      },
      "outputs": [],
      "source": [
        "type(x)"
      ]
    },
    {
      "cell_type": "markdown",
      "metadata": {
        "id": "w2NLoG3uEOPz"
      },
      "source": [
        "You can do many things with strings. For a complete list see ``help(str)``. Here we will survey the most frequently encountered string operations.\n",
        "\n",
        "First, you can join two strings together:"
      ]
    },
    {
      "cell_type": "code",
      "execution_count": null,
      "metadata": {
        "id": "94Q4ih29EOP1"
      },
      "outputs": [],
      "source": [
        "y = ', and another string.'\n",
        "y"
      ]
    },
    {
      "cell_type": "code",
      "execution_count": null,
      "metadata": {
        "id": "OCwljjT6EOP3"
      },
      "outputs": [],
      "source": [
        "z = x + y\n",
        "z"
      ]
    },
    {
      "cell_type": "markdown",
      "metadata": {
        "id": "WKoQSr_BEOP5"
      },
      "source": [
        "Here is how you can center a string:"
      ]
    },
    {
      "cell_type": "code",
      "execution_count": null,
      "metadata": {
        "id": "XXl6buo9EOP6"
      },
      "outputs": [],
      "source": [
        "z.center(80) # 80 is the total number of characters in a row:"
      ]
    },
    {
      "cell_type": "markdown",
      "metadata": {
        "id": "ABKQU4XkEOP7"
      },
      "source": [
        "You can also multiply a string with a number to repeat it many times:"
      ]
    },
    {
      "cell_type": "code",
      "execution_count": null,
      "metadata": {
        "id": "1oK-9b2NEOQC"
      },
      "outputs": [],
      "source": [
        "'=' * 80"
      ]
    },
    {
      "cell_type": "markdown",
      "metadata": {
        "id": "NVrGUsW-EOQD"
      },
      "source": [
        "You can ask how many characters are in a string:"
      ]
    },
    {
      "cell_type": "code",
      "execution_count": null,
      "metadata": {
        "id": "1o4HD6-UEOQE"
      },
      "outputs": [],
      "source": [
        "len(z)"
      ]
    },
    {
      "cell_type": "markdown",
      "metadata": {
        "id": "dRiAul5REOQF"
      },
      "source": [
        "You can also make substrings using indices. These work in exactly the same way as the do for tuples and lists:"
      ]
    },
    {
      "cell_type": "code",
      "execution_count": null,
      "metadata": {
        "id": "RxgW5BQBEOQG"
      },
      "outputs": [],
      "source": [
        "z[::-1]"
      ]
    },
    {
      "cell_type": "code",
      "execution_count": null,
      "metadata": {
        "id": "6mA3R90rEOQH"
      },
      "outputs": [],
      "source": [
        "z[2:10]"
      ]
    },
    {
      "cell_type": "code",
      "execution_count": null,
      "metadata": {
        "id": "O2Jva1i6EOQI"
      },
      "outputs": [],
      "source": [
        "z[0]"
      ]
    },
    {
      "cell_type": "markdown",
      "metadata": {
        "id": "mbUzfY9hEOQI"
      },
      "source": [
        "Another useful thing is padding a string representing a number with zeros. This is particularly useful when reading many data files numbered as \"001, 002, 003,\" etc.\n",
        "Here it is:"
      ]
    },
    {
      "cell_type": "code",
      "execution_count": null,
      "metadata": {
        "id": "NLUoZA41EOQP"
      },
      "outputs": [],
      "source": [
        "'23'.zfill(5)"
      ]
    },
    {
      "cell_type": "code",
      "execution_count": null,
      "metadata": {
        "id": "9GxZAedLEOQQ"
      },
      "outputs": [],
      "source": [
        "'1'.zfill(4)"
      ]
    },
    {
      "cell_type": "markdown",
      "metadata": {
        "id": "joRblHMLEOQQ"
      },
      "source": [
        "There is also an empty string:"
      ]
    },
    {
      "cell_type": "code",
      "execution_count": null,
      "metadata": {
        "id": "Deu9CNIoEOQR"
      },
      "outputs": [],
      "source": [
        "''"
      ]
    },
    {
      "cell_type": "code",
      "execution_count": null,
      "metadata": {
        "id": "CXCjmM9VEOQS"
      },
      "outputs": [],
      "source": [
        "''.zfill(4)"
      ]
    },
    {
      "cell_type": "code",
      "execution_count": null,
      "metadata": {
        "id": "t-Zmmg8FEOQT"
      },
      "outputs": [],
      "source": [
        "len('')"
      ]
    },
    {
      "cell_type": "markdown",
      "metadata": {
        "id": "jSCb4isiEOQT"
      },
      "source": [
        "Now I am going to show you the most important thing you need to remember: How to turn into strings integers and floats so that you present the result of your analysis.\n",
        "Let's get some numbers first:"
      ]
    },
    {
      "cell_type": "code",
      "execution_count": null,
      "metadata": {
        "id": "C1ushQ6jEOQV"
      },
      "outputs": [],
      "source": [
        "# an integer\n",
        "a = 123\n",
        "# a floating point number\n",
        "b = 12.908450"
      ]
    },
    {
      "cell_type": "markdown",
      "metadata": {
        "id": "ecQzjeprEOQY"
      },
      "source": [
        "Let's say that you want to put these numbers into a string so that you print them on the screen or maybe write something in a text file.\n",
        "Let's keep it simple. Say that we want to write: \"After my calculation I found out that a=*replace with value for a* and that b=*replace with value for b*.\"\n",
        "Here is one way to do this - not the best one though:"
      ]
    },
    {
      "cell_type": "code",
      "execution_count": null,
      "metadata": {
        "id": "PyEFdFK9EOQZ"
      },
      "outputs": [],
      "source": [
        "x = 'After my calculation I found out that a=' + str(a) + ' and that b=' + str(b)\n",
        "x"
      ]
    },
    {
      "cell_type": "markdown",
      "metadata": {
        "id": "a5oazfgFEOQa"
      },
      "source": [
        "So, all we did is turn the numbers into strings (using ``str(number)``) and the add the strings together.\n",
        "This is not the best way it doesn't allow us to change the number of significant digists we present.\n",
        "The *best* way to do it is to use *string formating*:"
      ]
    },
    {
      "cell_type": "code",
      "execution_count": null,
      "metadata": {
        "id": "D6_CleJ4EOQa"
      },
      "outputs": [],
      "source": [
        "x = 'After my calculation I found out that a={0:d} and that b={1:1.2f}'.format(a, b)\n",
        "x"
      ]
    },
    {
      "cell_type": "markdown",
      "metadata": {
        "id": "9MeumkN8EOQb"
      },
      "source": [
        "Let me explain what this does. First notice the brackets: ``{0:d}`` and ``{1:1.2f}``. The  number in the bracket before the ``:`` matches an input variable in the ``format(a, b)`` function that follows. For example, the ``0`` of ``{0:d}`` matches the first input of ``format`` which is ``a``. The first ``1`` (before the ``:``) of ``{1:1.2f}`` matches the second input of ``format`` which is ``b``.\n",
        "The characters after the ``:`` in the brackets tell Python how you would like to turn that variable into a string. The ``d`` means that you are expecting a decimal integer. The ``1.2f`` means that you are expecting a floating point number and that you want to keep two significant digits.\n",
        "\n",
        "Here are some other examples of formating:"
      ]
    },
    {
      "cell_type": "code",
      "execution_count": null,
      "metadata": {
        "id": "jfh9LsuIEOQc"
      },
      "outputs": [],
      "source": [
        "'This is a={0:5d} with five characters in total padding with empty space'.format(12)"
      ]
    },
    {
      "cell_type": "code",
      "execution_count": null,
      "metadata": {
        "id": "SHHMltFBEOQc"
      },
      "outputs": [],
      "source": [
        "import math\n",
        "'This is pi={0:1.30f} (thirty digits of pi)'.format(math.pi)"
      ]
    },
    {
      "cell_type": "code",
      "execution_count": null,
      "metadata": {
        "id": "M7t6gAptEOQd"
      },
      "outputs": [],
      "source": [
        "'This is b={0:1.3e} in scientific notation with three significant digits'.format(b)"
      ]
    },
    {
      "cell_type": "code",
      "execution_count": null,
      "metadata": {
        "id": "rzy94H2wEOQf"
      },
      "outputs": [],
      "source": [
        "'This is a={0:o} in octal format.'.format(a) "
      ]
    },
    {
      "cell_type": "code",
      "execution_count": null,
      "metadata": {
        "id": "7LreQE6CEOQf"
      },
      "outputs": [],
      "source": [
        "'And this is a={0:x} in hex format'.format(a)"
      ]
    },
    {
      "cell_type": "markdown",
      "metadata": {
        "id": "n7MT_5p3EOQg"
      },
      "source": [
        "A complete overview of the formating language is, of course, beyond the scope of this tutorial. You can find it [here](https://www.geeksforgeeks.org/python-format-function/).\n",
        "\n",
        "### Questions\n",
        "\n",
        "+ Rerun the code blocks above playing with the formatting brackets. Increase/decrease the number of digits. Change from decimal to float and vice versa. Add a third number 'c=whatever you like' in our ``x`` string above.\n"
      ]
    },
    {
      "cell_type": "markdown",
      "metadata": {
        "id": "g98-sSBzEOQh"
      },
      "source": [
        "## The print function\n",
        "\n"
      ]
    },
    {
      "cell_type": "markdown",
      "metadata": {
        "id": "gjpAqvh3EOQh"
      },
      "source": [
        "So far, we were only able to show things in the screen if we did something like this:"
      ]
    },
    {
      "cell_type": "code",
      "execution_count": null,
      "metadata": {
        "id": "NhyhmjvsEOQh"
      },
      "outputs": [],
      "source": [
        "x"
      ]
    },
    {
      "cell_type": "markdown",
      "metadata": {
        "id": "nsOL6AzCEOQi"
      },
      "source": [
        "This doesn't work in an actual Python program, however. It only works in a Jupyter notebook. But even in Jupyter notebooks, if you wanted to show more than one thing, this doesn't work. See this:"
      ]
    },
    {
      "cell_type": "code",
      "execution_count": null,
      "metadata": {
        "id": "0W0rXPEIEOQj"
      },
      "outputs": [],
      "source": [
        "x\n",
        "y"
      ]
    },
    {
      "cell_type": "markdown",
      "metadata": {
        "id": "DzDka-UQEOQj"
      },
      "source": [
        "Only ``y`` was displayed.\n",
        "To display ``x`` and then ``y``, you need to use the ``print()`` function.\n",
        "Here it is:"
      ]
    },
    {
      "cell_type": "code",
      "execution_count": null,
      "metadata": {
        "id": "lQZbfCdXEOQk"
      },
      "outputs": [],
      "source": [
        "print(x)\n",
        "print(y)"
      ]
    },
    {
      "cell_type": "markdown",
      "metadata": {
        "id": "eMb48wqVEOQk"
      },
      "source": [
        "Just like formating, there are a lot of details in ``print()``. Here, we will be only covering the very basics.\n",
        "Let's start by printing some numerical variables:"
      ]
    },
    {
      "cell_type": "code",
      "execution_count": null,
      "metadata": {
        "id": "LVpicZ-gEOQl"
      },
      "outputs": [],
      "source": [
        "a = 123\n",
        "b = 98.2082\n",
        "print(a)\n",
        "print(b)"
      ]
    },
    {
      "cell_type": "markdown",
      "metadata": {
        "id": "ItQ_Lp94EOQm"
      },
      "source": [
        "You can also print the variables one after the other:"
      ]
    },
    {
      "cell_type": "code",
      "execution_count": null,
      "metadata": {
        "id": "OMuUtEhBEOQn"
      },
      "outputs": [],
      "source": [
        "print(a, b)"
      ]
    },
    {
      "cell_type": "markdown",
      "metadata": {
        "id": "P0_uWDbwEOQn"
      },
      "source": [
        "Notice that print adds an empty space between the arguments that you want to print.\n",
        "There is no limit to how many arguments print can have.\n",
        "The following also works:"
      ]
    },
    {
      "cell_type": "code",
      "execution_count": null,
      "metadata": {
        "id": "Z3_vTH2ZEOQo"
      },
      "outputs": [],
      "source": [
        "print(a, b, x, y, 'and some more')"
      ]
    },
    {
      "cell_type": "markdown",
      "metadata": {
        "id": "7wnfOqi1EOQp"
      },
      "source": [
        "Of course when you print numerics, you probably want to do it like this:"
      ]
    },
    {
      "cell_type": "code",
      "execution_count": null,
      "metadata": {
        "id": "mmOpcJXWEOQp"
      },
      "outputs": [],
      "source": [
        "print('a={0:d}, b={1:1.2f}'.format(a,b))"
      ]
    },
    {
      "cell_type": "markdown",
      "metadata": {
        "id": "iTlA34IFEOQp"
      },
      "source": [
        "That is, instead of just printing ``a`` and then ``b``, you make a string with just the desired format and you print that string.\n",
        "\n",
        "Notice that ``print()`` puts a newline each time it is called.\n",
        "See this:"
      ]
    },
    {
      "cell_type": "code",
      "execution_count": null,
      "metadata": {
        "id": "gBxaRbK5EOQw"
      },
      "outputs": [],
      "source": [
        "print('This is the first line.')\n",
        "print('This will appear in the second line.')"
      ]
    },
    {
      "cell_type": "markdown",
      "metadata": {
        "id": "RG0uE9y6EOQx"
      },
      "source": [
        "There is a way, a special character called ``\\n`` which can be used to mark a newline in a string. When ``print()`` sees this character, then it adds a newline. See how it works:"
      ]
    },
    {
      "cell_type": "code",
      "execution_count": null,
      "metadata": {
        "id": "Kc8DZ0ETEOQx"
      },
      "outputs": [],
      "source": [
        "print('This is the first line.\\nThis will appear in the second line.')"
      ]
    },
    {
      "cell_type": "markdown",
      "metadata": {
        "id": "QTxrZyIJEOQy"
      },
      "source": [
        "Here, let me just print 5 new lines:"
      ]
    },
    {
      "cell_type": "code",
      "execution_count": null,
      "metadata": {
        "id": "446SxnZQEOQy"
      },
      "outputs": [],
      "source": [
        "print('\\n\\n\\n\\n\\n')"
      ]
    },
    {
      "cell_type": "markdown",
      "metadata": {
        "id": "Cn3BD1xWEOQz"
      },
      "source": [
        "Characters like ``\\n`` are called [special characters](https://www.w3schools.com/python/gloss_python_escape_characters.asp). In this class, we will use the ``\\t`` character very often to align what we print.\n",
        "This is called the tab character.\n",
        "Here is what it does:"
      ]
    },
    {
      "cell_type": "code",
      "execution_count": null,
      "metadata": {
        "id": "s1R-OJ3CEOQz"
      },
      "outputs": [],
      "source": [
        "print('A\\tB\\tC')"
      ]
    },
    {
      "cell_type": "markdown",
      "metadata": {
        "id": "wMMFyb1CEOQ0"
      },
      "source": [
        "Get it? Here is why it is useful. Let's print a table of some fake data:"
      ]
    },
    {
      "cell_type": "code",
      "execution_count": null,
      "metadata": {
        "id": "URRY2_wGEOQ0"
      },
      "outputs": [],
      "source": [
        "print('ID\\tTime (s)\\tMass (kg)\\t')\n",
        "print('-' * 40) # Prints 40 '-'\n",
        "print('{0:d}\\t{1:1.2f}\\t\\t{2:1.2f}'.format(0, 0.01, 12.2))\n",
        "print('{0:d}\\t{1:1.2f}\\t\\t{2:1.2f}'.format(1, 0.02, 12.5))\n",
        "print('{0:d}\\t{1:1.2f}\\t\\t{2:1.2f}'.format(2, 0.05, 13.1))\n",
        "print('{0:d}\\t{1:1.2f}\\t\\t{2:1.2f}'.format(3, 0.07, 13.6))\n",
        "print('{0:d}\\t{1:1.2f}\\t\\t{2:1.2f}'.format(4, 0.08, 14.2))"
      ]
    },
    {
      "cell_type": "markdown",
      "metadata": {
        "id": "w7S6sX0nEOQ1"
      },
      "source": [
        "Notice that I had to use two ``\\t``'s to allign the mass.\n",
        "It's probably too much to try to remember all these details.\n",
        "We will see many more examples in the hands-on activities and you will pick up certain tricks."
      ]
    },
    {
      "cell_type": "markdown",
      "metadata": {
        "id": "9a5njqfCEOQ2"
      },
      "source": [
        "## Questions\n",
        "\n",
        "Here are some data:"
      ]
    },
    {
      "cell_type": "code",
      "execution_count": null,
      "metadata": {
        "id": "l2_3BJ-zEOQ3"
      },
      "outputs": [],
      "source": [
        "data = [23.0, 21.0, 23.0, 23.0, 23.84, 24.52]"
      ]
    },
    {
      "cell_type": "markdown",
      "metadata": {
        "id": "_7Q9IH3QEOQ4"
      },
      "source": [
        "Use ``print()`` and formating to present the data like this:\n",
        "```\n",
        "DATA\n",
        "------\n",
        "2.3e+1\n",
        "2.1e+1\n",
        "...\n",
        "```\n",
        "etc. Then calculate the average of the data and print it with two significant digits."
      ]
    },
    {
      "cell_type": "code",
      "execution_count": null,
      "metadata": {
        "id": "boLawOdmEOQ5"
      },
      "outputs": [],
      "source": [
        "# your code here"
      ]
    }
  ],
  "metadata": {
    "kernelspec": {
      "display_name": "Python 3",
      "language": "python",
      "name": "python3"
    },
    "language_info": {
      "codemirror_mode": {
        "name": "ipython",
        "version": 3
      },
      "file_extension": ".py",
      "mimetype": "text/x-python",
      "name": "python",
      "nbconvert_exporter": "python",
      "pygments_lexer": "ipython3",
      "version": "3.7.7"
    },
    "colab": {
      "name": "python-basics-4.ipynb",
      "provenance": [],
      "include_colab_link": true
    }
  },
  "nbformat": 4,
  "nbformat_minor": 0
}