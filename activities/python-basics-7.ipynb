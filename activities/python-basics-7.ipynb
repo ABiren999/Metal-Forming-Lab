{
  "cells": [
    {
      "cell_type": "markdown",
      "metadata": {
        "id": "view-in-github",
        "colab_type": "text"
      },
      "source": [
        "<a href=\"https://colab.research.google.com/github/BireNbarik/Metal-Forming-Lab/blob/main/activities/python-basics-7.ipynb\" target=\"_parent\"><img src=\"https://colab.research.google.com/assets/colab-badge.svg\" alt=\"Open In Colab\"/></a>"
      ]
    },
    {
      "cell_type": "markdown",
      "metadata": {
        "id": "3duUFlmmEQ0n"
      },
      "source": [
        "# Python Basics 7: Functions\n",
        "\n",
        "The ``function`` objects in Python allow you to give a name to a series of expressions that may or may not return a result.\n",
        "To syntax for defining a function in Python is as follows:\n",
        "```\n",
        "def function_name(some_inputs):\n",
        "    some expressions\n",
        "    return something (optional)\n",
        "```\n",
        "\n",
        "## Functions with no inputs that return nothing\n",
        "Let's start first with functions that have no inputs and return nothing."
      ]
    },
    {
      "cell_type": "code",
      "execution_count": null,
      "metadata": {
        "id": "zSdeSsOpEQ2B"
      },
      "outputs": [],
      "source": [
        "def print_hello():\n",
        "    \"\"\"\n",
        "    Prints hello.\n",
        "    \"\"\"\n",
        "    print('Hello there!')"
      ]
    },
    {
      "cell_type": "markdown",
      "metadata": {
        "id": "onS1cM5AEQ3S"
      },
      "source": [
        "First, let's run this:"
      ]
    },
    {
      "cell_type": "code",
      "execution_count": null,
      "metadata": {
        "id": "8jyMurDiEQ3h"
      },
      "outputs": [],
      "source": [
        "print_hello()"
      ]
    },
    {
      "cell_type": "markdown",
      "metadata": {
        "id": "tRME2l4WEQ3i"
      },
      "source": [
        "See for yourself that the type of ``print_hello`` is a function:"
      ]
    },
    {
      "cell_type": "code",
      "execution_count": null,
      "metadata": {
        "id": "BYfrHz1FEQ3j"
      },
      "outputs": [],
      "source": [
        "type(print_hello)"
      ]
    },
    {
      "cell_type": "markdown",
      "metadata": {
        "id": "avif9FYoEQ3l"
      },
      "source": [
        "The other thing that I want you to notice is the text in the triple quotes below the function definition.\n",
        "This is called the *docstring* of the function.\n",
        "You use it to document what the function does so that other people know how to use it.\n",
        "The docstring is what the ``help()`` function sees.\n",
        "Check this out:"
      ]
    },
    {
      "cell_type": "code",
      "execution_count": null,
      "metadata": {
        "id": "8G9twyGFEQ3u"
      },
      "outputs": [],
      "source": [
        "help(print_hello)"
      ]
    },
    {
      "cell_type": "markdown",
      "metadata": {
        "id": "sw5tmda4EQ3w"
      },
      "source": [
        "Finally, let's see if ``print_hello()`` returns anything. Let's try to grab whatever it returns and print it."
      ]
    },
    {
      "cell_type": "code",
      "execution_count": null,
      "metadata": {
        "id": "rnG983zGEQ3z"
      },
      "outputs": [],
      "source": [
        "res = print_hello()\n",
        "print('Res is: ', res)"
      ]
    },
    {
      "cell_type": "markdown",
      "metadata": {
        "id": "zOiRhrr8EQ30"
      },
      "source": [
        "Alright! Now you see why ``None`` is useful. A function that returns nothing, returns ``None``."
      ]
    },
    {
      "cell_type": "markdown",
      "metadata": {
        "id": "cVv7fWuHEQ32"
      },
      "source": [
        "### Questions\n",
        "\n",
        "+ Modify the function so that it prints hellow there 5 times. Make sure you also modify the docstring to reflect the new behavior."
      ]
    },
    {
      "cell_type": "markdown",
      "metadata": {
        "id": "E5dT2tIDEQ33"
      },
      "source": [
        "## Real functions\n",
        "\n",
        "When I am talking about numerical functions, I mean things like $f(x) = x^2$ or $g(x) = \\sin(x)$ and so on.\n",
        "These functions typically take a single input that is a real number and they return also a single input which is a real number.\n",
        "Here are some examples:"
      ]
    },
    {
      "cell_type": "code",
      "execution_count": null,
      "metadata": {
        "id": "xchfv19YEQ9q"
      },
      "outputs": [],
      "source": [
        "def square(x):\n",
        "    \"\"\"\n",
        "    Calculates the square of ``x``.\n",
        "    \n",
        "    Arguments:\n",
        "    x     -   The real number you wish to square\n",
        "    \n",
        "    Returns: The square of ``x``.\n",
        "    \"\"\"\n",
        "    return x ** 2"
      ]
    },
    {
      "cell_type": "code",
      "execution_count": null,
      "metadata": {
        "id": "QDUf8KxxEQ9s"
      },
      "outputs": [],
      "source": [
        "help(square)"
      ]
    },
    {
      "cell_type": "code",
      "execution_count": null,
      "metadata": {
        "id": "qXq8dwRbEQ9t"
      },
      "outputs": [],
      "source": [
        "square(2)"
      ]
    },
    {
      "cell_type": "code",
      "execution_count": null,
      "metadata": {
        "id": "240Np_tlEQ9y"
      },
      "outputs": [],
      "source": [
        "square(23.0)"
      ]
    },
    {
      "cell_type": "markdown",
      "metadata": {
        "id": "7ba_Nw2NEQ9y"
      },
      "source": [
        "Because real functions are used so often, there is actually a shortcut. It is called ``lambda`` functions.\n",
        "To define a ``lambda`` function, the syntax is:\n",
        "```\n",
        "func_name = lambda inputs: single_expression_you_want_to_return\n",
        "```\n",
        "Here is the square function in a single line:"
      ]
    },
    {
      "cell_type": "code",
      "execution_count": null,
      "metadata": {
        "id": "QliX54CkEQ9_"
      },
      "outputs": [],
      "source": [
        "alt_square = lambda x: x ** 2"
      ]
    },
    {
      "cell_type": "code",
      "execution_count": null,
      "metadata": {
        "id": "O4u3P7GGEQ-A"
      },
      "outputs": [],
      "source": [
        "alt_square(2)"
      ]
    },
    {
      "cell_type": "code",
      "execution_count": null,
      "metadata": {
        "id": "s3Ct6E2eEQ-C"
      },
      "outputs": [],
      "source": [
        "alt_square(23.0)"
      ]
    },
    {
      "cell_type": "markdown",
      "metadata": {
        "id": "vrUG1Ur_EQ-C"
      },
      "source": [
        "You will see me using both.\n",
        "\n",
        "Let's finish this section by evaluating the square function on all numbers from 0 to 100 and putting the result in a list.\n",
        "This is a very commonly occuring process required for plotting functions."
      ]
    },
    {
      "cell_type": "code",
      "execution_count": null,
      "metadata": {
        "id": "Y9tz6_nAEQ-D"
      },
      "outputs": [],
      "source": [
        "# The xs on which you want to evaluate square(x)\n",
        "xs = range(0, 101)\n",
        "# The corresponding ys (empty list to be grown gradually)\n",
        "ys = []\n",
        "# Loop over all the x's\n",
        "for x in xs:\n",
        "    # Evaluate the function at x:\n",
        "    y = square(x)\n",
        "    # Add the value to the list\n",
        "    ys.append(y)\n",
        "print(ys)"
      ]
    },
    {
      "cell_type": "markdown",
      "metadata": {
        "id": "Sh-zIJNPEQ-E"
      },
      "source": [
        "Now, there is a simpler way to do this using what is known as a *list generator*.\n",
        "This is a rather advanced Python construct, but because I cannot resist using it, I am going to show you here how it works.\n",
        "Basically, it is mirroring the mathematical definitions of a set.\n",
        "Here it is:"
      ]
    },
    {
      "cell_type": "code",
      "execution_count": null,
      "metadata": {
        "id": "HqTAEuxhEQ-F"
      },
      "outputs": [],
      "source": [
        "ys = [square(x) for x in xs]\n",
        "print(ys)"
      ]
    },
    {
      "cell_type": "markdown",
      "metadata": {
        "id": "IgTrwDQBEQ-G"
      },
      "source": [
        "### Questions\n",
        "\n",
        "+ Write a function that calculates the mean of a list of a number. Try it out on the ``xs``."
      ]
    },
    {
      "cell_type": "code",
      "execution_count": null,
      "metadata": {
        "id": "eFU6SrDdEQ-G"
      },
      "outputs": [],
      "source": [
        "# Your code here"
      ]
    },
    {
      "cell_type": "markdown",
      "metadata": {
        "id": "V2sh8eg8EQ-H"
      },
      "source": [
        "## Functions with many arguments\n",
        "\n",
        "You can have as many arguments as you want in a function.\n",
        "Here is a function that calculates the ``p`` norm of a vector.\n",
        "The ``p`` norm of the vector $\\mathbf{x} = (x_1,\\dots,x_N)$ is defined to be:\n",
        "$$\n",
        "\\parallel \\mathbf{x}\\parallel_p := \\left(\\sum_{i=1}^Nx_i^p\\right)^{\\frac{1}{p}}.\n",
        "$$\n",
        "Here it is:"
      ]
    },
    {
      "cell_type": "code",
      "execution_count": null,
      "metadata": {
        "id": "_8DRdkwFEQ-H"
      },
      "outputs": [],
      "source": [
        "def norm(x, p):\n",
        "    \"\"\"\n",
        "    Calculates the ``p``-norm of the vector ``x``.\n",
        "    \n",
        "    Arguments:\n",
        "     x     -     A list of numbers.\n",
        "     p     -     A positive number.\n",
        "    \"\"\"\n",
        "    res = 0.0\n",
        "    for x_i in x:\n",
        "        res += x_i ** p\n",
        "    return res ** (1 / p)"
      ]
    },
    {
      "cell_type": "markdown",
      "metadata": {
        "id": "HCbVgsVCEQ-M"
      },
      "source": [
        "Let's try this:"
      ]
    },
    {
      "cell_type": "code",
      "execution_count": null,
      "metadata": {
        "id": "UXRMnb-kEQ-Y"
      },
      "outputs": [],
      "source": [
        "x = [1, 2, 3]\n",
        "norm(x, 2)"
      ]
    },
    {
      "cell_type": "code",
      "execution_count": null,
      "metadata": {
        "id": "OauZtvZwEQ-Z"
      },
      "outputs": [],
      "source": [
        "norm(x, 3)"
      ]
    },
    {
      "cell_type": "code",
      "execution_count": null,
      "metadata": {
        "id": "-1W-Mro6EQ-Z"
      },
      "outputs": [],
      "source": [
        "norm(x, 100)"
      ]
    },
    {
      "cell_type": "markdown",
      "metadata": {
        "id": "bvg7OSIgEQ-a"
      },
      "source": [
        "Now, let's try to run the same thing without specifying the ``p`` input:"
      ]
    },
    {
      "cell_type": "code",
      "execution_count": null,
      "metadata": {
        "id": "AipyVvW7EQ-a"
      },
      "outputs": [],
      "source": [
        "norm(x)"
      ]
    },
    {
      "cell_type": "markdown",
      "metadata": {
        "id": "f2MpJVSgEQ-b"
      },
      "source": [
        "We get the error that the ``p`` argument of the function is missing.\n",
        "However, ``p=2`` is the most common choice because it corresponds to the standard Euclidean norm.\n",
        "We can rewrite the function so that by default ``p=2``. Such arguments are called **default arguments**.\n",
        "Here is how:"
      ]
    },
    {
      "cell_type": "code",
      "execution_count": null,
      "metadata": {
        "id": "A6C8eQPUEQ-c"
      },
      "outputs": [],
      "source": [
        "def norm(x, p=2):\n",
        "    \"\"\"\n",
        "    Calculates the ``p``-norm of the vector ``x``.\n",
        "    \n",
        "    Arguments:\n",
        "     x     -     A list of numbers.\n",
        "     p     -     A positive number (default p=2)\n",
        "    \"\"\"\n",
        "    res = 0.0\n",
        "    for x_i in x:\n",
        "        res += x_i ** p\n",
        "    return res ** (1 / p)"
      ]
    },
    {
      "cell_type": "markdown",
      "metadata": {
        "id": "hYpz0Am4EQ-c"
      },
      "source": [
        "Now you can call ``norm(x)``:"
      ]
    },
    {
      "cell_type": "code",
      "execution_count": null,
      "metadata": {
        "id": "rjG-tufEEQ-d"
      },
      "outputs": [],
      "source": [
        "norm(x)"
      ]
    },
    {
      "cell_type": "markdown",
      "metadata": {
        "id": "f0SwWmhIEQ-d"
      },
      "source": [
        "If you want to use another ``p``, you can do:"
      ]
    },
    {
      "cell_type": "code",
      "execution_count": null,
      "metadata": {
        "id": "ACR7NXfiEQ-e"
      },
      "outputs": [],
      "source": [
        "norm(x, 3.0)"
      ]
    },
    {
      "cell_type": "markdown",
      "metadata": {
        "id": "y-ubnycgEQ-e"
      },
      "source": [
        "or (more intuitively):"
      ]
    },
    {
      "cell_type": "code",
      "execution_count": null,
      "metadata": {
        "id": "XgqqEnrmEQ-f"
      },
      "outputs": [],
      "source": [
        "norm(x, p=3.0)"
      ]
    },
    {
      "cell_type": "markdown",
      "metadata": {
        "id": "r71xwBB4EQ-f"
      },
      "source": [
        "Alirght, this is nice! Let's now try to break our function.\n",
        "We can break it in various ways.\n",
        "First, we can break it by passing a nonpositive ``p``.\n",
        "Here you go:"
      ]
    },
    {
      "cell_type": "code",
      "execution_count": null,
      "metadata": {
        "id": "hNbdaSGHEREN"
      },
      "outputs": [],
      "source": [
        "norm(x, p=0)"
      ]
    },
    {
      "cell_type": "markdown",
      "metadata": {
        "id": "0ErnlONzEREN"
      },
      "source": [
        "or this one:"
      ]
    },
    {
      "cell_type": "code",
      "execution_count": null,
      "metadata": {
        "id": "2e9dGnPDEREO"
      },
      "outputs": [],
      "source": [
        "norm(x, p=-1)"
      ]
    },
    {
      "cell_type": "markdown",
      "metadata": {
        "id": "rsFXJ1CoEREO"
      },
      "source": [
        "In the first case, we get an error message. In the second case we do not get any error message.\n",
        "However, the assumption that ``p`` is positive is clearly violated.\n",
        "To force the function to give us an error message when its assumptions are violated, we can use ``assert`` statements.\n",
        "Here is how:"
      ]
    },
    {
      "cell_type": "code",
      "execution_count": null,
      "metadata": {
        "id": "sfG0C-5UEREP"
      },
      "outputs": [],
      "source": [
        "def norm(x, p=2):\n",
        "    \"\"\"\n",
        "    Calculates the ``p``-norm of the vector ``x``.\n",
        "    \n",
        "    Arguments:\n",
        "     x     -     A list of numbers.\n",
        "     p     -     A positive number (default p=2)\n",
        "    \"\"\"\n",
        "    # Check that the function assiumptions are satisfied\n",
        "    # Turn p into a float even if it is not one\n",
        "    p = float(p) \n",
        "    # Ensures taht p is positive\n",
        "    assert p > 0, 'p must be positive (p = {0:1.2f})'.format(p)\n",
        "    # The code that calculates the p-norm\n",
        "    res = 0.0\n",
        "    for x_i in x:\n",
        "        res += x_i ** p\n",
        "    return res ** (1 / p)"
      ]
    },
    {
      "cell_type": "markdown",
      "metadata": {
        "id": "ElvfkXx6EREQ"
      },
      "source": [
        "Here is how this works. If you give it the right ``p``, then it just works:"
      ]
    },
    {
      "cell_type": "code",
      "execution_count": null,
      "metadata": {
        "id": "lecVYnadEREQ"
      },
      "outputs": [],
      "source": [
        "norm(x, p=2)"
      ]
    },
    {
      "cell_type": "markdown",
      "metadata": {
        "id": "iDsgTc5mEREV"
      },
      "source": [
        "Here is what happens with a bad ``p``:"
      ]
    },
    {
      "cell_type": "code",
      "execution_count": null,
      "metadata": {
        "id": "3RJIHYTnEREV"
      },
      "outputs": [],
      "source": [
        "norm(x, p=-1)"
      ]
    },
    {
      "cell_type": "markdown",
      "metadata": {
        "id": "bT08nCYkEREW"
      },
      "source": [
        "Of course, we can still break the function in various ways:"
      ]
    },
    {
      "cell_type": "code",
      "execution_count": null,
      "metadata": {
        "id": "sp3_03SzEREW"
      },
      "outputs": [],
      "source": [
        "norm(['a', 'b'], p=2)"
      ]
    },
    {
      "cell_type": "markdown",
      "metadata": {
        "id": "sRrP2FrAEREX"
      },
      "source": [
        "The norm of a list of characters does not make sense.\n",
        "To add a check on whether or not the input ``x`` is a valid vector, we would have to wait until we introduce numerical arrays."
      ]
    },
    {
      "cell_type": "markdown",
      "metadata": {
        "id": "8Y-YDkLCEREX"
      },
      "source": [
        "### Questions\n",
        "\n",
        "+ The infinity norm is defined to be:\n",
        "$$\n",
        "\\parallel\\mathbf{x}\\parallel = \\max_{1\\le i\\le N} |x_i|.\n",
        "$$\n",
        "Modify the code of the ``norm(x,p)`` function so that when ``p = math.inf``, it uses gives back the right result."
      ]
    },
    {
      "cell_type": "code",
      "execution_count": null,
      "metadata": {
        "id": "bWEt97sFEREY"
      },
      "outputs": [],
      "source": [
        "import math # for math.inf\n",
        "# Your code here"
      ]
    },
    {
      "cell_type": "code",
      "execution_count": null,
      "metadata": {
        "id": "o8rGQ39OEREZ"
      },
      "outputs": [],
      "source": [
        "# Try this out:\n",
        "norm(x,p=math.inf)"
      ]
    },
    {
      "cell_type": "markdown",
      "metadata": {
        "id": "5vj_zAxaEREZ"
      },
      "source": [
        "## Organizing your code in functions\n",
        "\n",
        "Remember the previous hands-on activity in which we wrote code to calculate the sum of an infinite series to a given tolerance.\n",
        "If we wanted to change the series we had to modify the code by hand.\n",
        "I will now show you how you can organize the code that we wrote in a function that accepts as an input any series you want.\n",
        "The thing that you need to mediate a bit on is that the function ``calculate_series`` that we will create has an input a function ``a`` which can give you the result of the sequence $a_n$ you are summing for any $n$, i.e., ``a(n)`` calculates $a_n$.\n",
        "Study this code:"
      ]
    },
    {
      "cell_type": "code",
      "execution_count": null,
      "metadata": {
        "id": "ZaAuk02iEREa"
      },
      "outputs": [],
      "source": [
        "def calculate_series(a, max_iter=100000, epsilon=1e-5, verbose=True):\n",
        "    \"\"\"\n",
        "    Calculate a given series to a desired tolerance.\n",
        "    \n",
        "    Arguments\n",
        "    a         -   A function that specifies the sequence you want to sum.\n",
        "    max_iter  -   The maximum number of iterations, a positive integer \n",
        "                  (default max_iter=10000).\n",
        "    epsilon   -   The tolerance, a positive float (default epsilon=1e-5).\n",
        "    verbose   -   A boolean specifying whether or not you want to print\n",
        "                  something about the progress of the function\n",
        "                  (default verbose=True).\n",
        "    \n",
        "    Returns:\n",
        "        An estimate of the sum of a(n) for n = 0 to infinty.\n",
        "    \"\"\"\n",
        "    # Check assumptions\n",
        "    # There is a way to check if a is a function, but it is a bit advanced\n",
        "    # max_iter must be a positive integer\n",
        "    assert isinstance(max_iter, int), 'max_inter must be an integer'\n",
        "    assert max_iter > 0, 'max_iter must be positive'\n",
        "    # epsilon must be a positive float\n",
        "    assert isinstance(epsilon, float), 'epsilon must be a float'\n",
        "    assert epsilon > 0, 'epsilon must be positive'\n",
        "    # The result\n",
        "    res = 0.0\n",
        "    # Start a counter\n",
        "    n = 0\n",
        "    # Start the loop\n",
        "    while n <= max_iter:\n",
        "        # Compute the new term\n",
        "        a_n = a(n)\n",
        "        # Check if the absolute value of the new term is smaller than the tolerance\n",
        "        if abs(a_n) < epsilon:\n",
        "            # If it is indeed smaller, exit the loop\n",
        "            # you do this with the command\n",
        "            if verbose:\n",
        "                print('*** Converged in {0:d} iterations! ***'.format(n+1))\n",
        "            break\n",
        "        # Otherwise we just add the new term to our running sum\n",
        "        res += a_n\n",
        "        # Print something about the current iteration\n",
        "        if verbose and n % 10000 == 0:\n",
        "            print('Current iteration n = {0:10d}, sum so far: {1:1.12f}'.format(n, res))\n",
        "        # and increase the counter\n",
        "        n += 1\n",
        "        if verbose and n == max_iter + 1:\n",
        "            print('*** Stopped when maximum number of iterations ({0:d}) were reached! ***'.format(max_iter))\n",
        "    return res"
      ]
    },
    {
      "cell_type": "markdown",
      "metadata": {
        "id": "pbZnxyk9EREb"
      },
      "source": [
        "Here is the help of the function we just wrote:"
      ]
    },
    {
      "cell_type": "code",
      "execution_count": null,
      "metadata": {
        "id": "kCCGGwMIEREc"
      },
      "outputs": [],
      "source": [
        "help(calculate_series)"
      ]
    },
    {
      "cell_type": "markdown",
      "metadata": {
        "id": "ahGEswqaEREc"
      },
      "source": [
        "Here is how to use it:"
      ]
    },
    {
      "cell_type": "code",
      "execution_count": null,
      "metadata": {
        "id": "fSMRWMhTEREd"
      },
      "outputs": [],
      "source": [
        "# First define a sequence\n",
        "def a(n):\n",
        "    return (-1) ** n / (2 * n + 1)"
      ]
    },
    {
      "cell_type": "code",
      "execution_count": null,
      "metadata": {
        "id": "ZGrQp4XrEREe"
      },
      "outputs": [],
      "source": [
        "# Now run this:\n",
        "calculate_series(a)"
      ]
    },
    {
      "cell_type": "markdown",
      "metadata": {
        "id": "y-YLgo6oEREe"
      },
      "source": [
        "And here is an even faster way to do the same thing using ``lambda`` functions:"
      ]
    },
    {
      "cell_type": "code",
      "execution_count": null,
      "metadata": {
        "id": "NFeJe-GGEREe"
      },
      "outputs": [],
      "source": [
        "calculate_series(lambda n: (-1) ** n / (2 * n + 1))"
      ]
    },
    {
      "cell_type": "markdown",
      "metadata": {
        "id": "0x8qepxlEREf"
      },
      "source": [
        "### Questions\n",
        "+ Modify the code above so that you sum the series:\n",
        "$$\n",
        "\\sum_{n=0}^\\infty\\frac{1}{2^n},\n",
        "$$\n",
        "+ Modify the code above so that ``max_iter=1000`` and ``epsilon=1e-2``.\n",
        "+ Modify the code above so that the function does not print anything."
      ]
    }
  ],
  "metadata": {
    "kernelspec": {
      "display_name": "Python 3",
      "language": "python",
      "name": "python3"
    },
    "language_info": {
      "codemirror_mode": {
        "name": "ipython",
        "version": 3
      },
      "file_extension": ".py",
      "mimetype": "text/x-python",
      "name": "python",
      "nbconvert_exporter": "python",
      "pygments_lexer": "ipython3",
      "version": "3.7.7"
    },
    "colab": {
      "name": "python-basics-7.ipynb",
      "provenance": [],
      "include_colab_link": true
    }
  },
  "nbformat": 4,
  "nbformat_minor": 0
}